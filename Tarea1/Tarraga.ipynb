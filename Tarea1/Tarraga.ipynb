{
 "cells": [
  {
   "cell_type": "markdown",
   "id": "ed870fdd",
   "metadata": {},
   "source": [
    "# Tarea 1\n",
    "\n",
    "## Nombre: Edgar Daniel Tarraga Torrez.\n",
    "\n",
    "\n",
    "#### El nombre del archivo de la tarea debe ser su_primer_apellido.ipynb\n",
    "#### Agregue más celdas de ser necesario para escribir su respuesta.\n",
    "\n",
    "#### En esta tarea utilizaremos los archivos wide_data.csv, long_data.csv."
   ]
  },
  {
   "cell_type": "markdown",
   "id": "c6501d04",
   "metadata": {},
   "source": [
    "### En esta tarea analizaremos datos de temperatura.\n",
    "\n",
    "### Los archivos nos muestran los parámetros  de TMAX = temperatura máxima,\n",
    "### TMIN = temperatura mínima y TOBS = temperatura en el tiempo de observación.\n"
   ]
  },
  {
   "cell_type": "code",
   "execution_count": 1,
   "id": "2130c53e",
   "metadata": {},
   "outputs": [],
   "source": [
    "import pandas as pd\n",
    "import numpy as np"
   ]
  },
  {
   "cell_type": "markdown",
   "id": "0c003e78",
   "metadata": {},
   "source": [
    "#### ¿ Qué diferencia hay entre ejecutar los siguientes comandos\n",
    "\n",
    "#### pd.read_csv('wide_data.csv', parse_dates=['date'])   $\\,\\,$     y\n",
    "\n",
    "####   pd.read_csv('wide_data.csv') ?\n",
    "*-*-*-*-*-*-*-*-*-*-*-*-*-*-*-*-*-*-*-*-*-*-*-*-*-*-*-*-*-*-*-*"
   ]
  },
  {
   "cell_type": "markdown",
   "id": "c5c4f0a8",
   "metadata": {},
   "source": [
    "#### pd.read_csv('wide_data.csv', parse_dates=['date'])   $\\,\\,$ \n",
    "La columna(arreglo) establecida con la etiqueta date , analizara y convertira a un formato tiempo :fecha ,hora en este de caso de 64 bits.\n",
    "\n",
    "#### pd.read_csv('wide_data.csv')   $\\,\\,$ \n",
    "Esta instruccion solo  leera el archivo en parametros por defecto para el caso de \n",
    "\n",
    "parse_dates= false , El formato de tiempo estara establecido como un objeto (String) "
   ]
  },
  {
   "cell_type": "markdown",
   "id": "19a4196a",
   "metadata": {},
   "source": [
    "#### Ejecute los siguientes comandos."
   ]
  },
  {
   "cell_type": "code",
   "execution_count": 2,
   "id": "ae19f912",
   "metadata": {},
   "outputs": [],
   "source": [
    "df1 = pd.read_csv('wide_data.csv', parse_dates=['date'])"
   ]
  },
  {
   "cell_type": "code",
   "execution_count": 3,
   "id": "1edcbf9e",
   "metadata": {},
   "outputs": [
    {
     "name": "stdout",
     "output_type": "stream",
     "text": [
      "<class 'pandas.core.frame.DataFrame'>\n",
      "RangeIndex: 31 entries, 0 to 30\n",
      "Data columns (total 4 columns):\n",
      " #   Column  Non-Null Count  Dtype         \n",
      "---  ------  --------------  -----         \n",
      " 0   date    31 non-null     datetime64[ns]\n",
      " 1   TMAX    31 non-null     float64       \n",
      " 2   TMIN    31 non-null     float64       \n",
      " 3   TOBS    31 non-null     float64       \n",
      "dtypes: datetime64[ns](1), float64(3)\n",
      "memory usage: 1.1 KB\n"
     ]
    }
   ],
   "source": [
    "df1.info()"
   ]
  },
  {
   "cell_type": "code",
   "execution_count": 4,
   "id": "05da755b",
   "metadata": {},
   "outputs": [
    {
     "data": {
      "text/html": [
       "<div>\n",
       "<style scoped>\n",
       "    .dataframe tbody tr th:only-of-type {\n",
       "        vertical-align: middle;\n",
       "    }\n",
       "\n",
       "    .dataframe tbody tr th {\n",
       "        vertical-align: top;\n",
       "    }\n",
       "\n",
       "    .dataframe thead th {\n",
       "        text-align: right;\n",
       "    }\n",
       "</style>\n",
       "<table border=\"1\" class=\"dataframe\">\n",
       "  <thead>\n",
       "    <tr style=\"text-align: right;\">\n",
       "      <th></th>\n",
       "      <th>date</th>\n",
       "      <th>TMAX</th>\n",
       "      <th>TMIN</th>\n",
       "      <th>TOBS</th>\n",
       "    </tr>\n",
       "  </thead>\n",
       "  <tbody>\n",
       "    <tr>\n",
       "      <th>0</th>\n",
       "      <td>2018-10-01</td>\n",
       "      <td>21.1</td>\n",
       "      <td>8.9</td>\n",
       "      <td>13.9</td>\n",
       "    </tr>\n",
       "    <tr>\n",
       "      <th>1</th>\n",
       "      <td>2018-10-02</td>\n",
       "      <td>23.9</td>\n",
       "      <td>13.9</td>\n",
       "      <td>17.2</td>\n",
       "    </tr>\n",
       "    <tr>\n",
       "      <th>2</th>\n",
       "      <td>2018-10-03</td>\n",
       "      <td>25.0</td>\n",
       "      <td>15.6</td>\n",
       "      <td>16.1</td>\n",
       "    </tr>\n",
       "    <tr>\n",
       "      <th>3</th>\n",
       "      <td>2018-10-04</td>\n",
       "      <td>22.8</td>\n",
       "      <td>11.7</td>\n",
       "      <td>11.7</td>\n",
       "    </tr>\n",
       "    <tr>\n",
       "      <th>4</th>\n",
       "      <td>2018-10-05</td>\n",
       "      <td>23.3</td>\n",
       "      <td>11.7</td>\n",
       "      <td>18.9</td>\n",
       "    </tr>\n",
       "    <tr>\n",
       "      <th>5</th>\n",
       "      <td>2018-10-06</td>\n",
       "      <td>20.0</td>\n",
       "      <td>13.3</td>\n",
       "      <td>16.1</td>\n",
       "    </tr>\n",
       "    <tr>\n",
       "      <th>6</th>\n",
       "      <td>2018-10-07</td>\n",
       "      <td>20.0</td>\n",
       "      <td>16.1</td>\n",
       "      <td>20.0</td>\n",
       "    </tr>\n",
       "    <tr>\n",
       "      <th>7</th>\n",
       "      <td>2018-10-08</td>\n",
       "      <td>26.7</td>\n",
       "      <td>17.8</td>\n",
       "      <td>17.8</td>\n",
       "    </tr>\n",
       "    <tr>\n",
       "      <th>8</th>\n",
       "      <td>2018-10-09</td>\n",
       "      <td>18.9</td>\n",
       "      <td>17.2</td>\n",
       "      <td>17.8</td>\n",
       "    </tr>\n",
       "    <tr>\n",
       "      <th>9</th>\n",
       "      <td>2018-10-10</td>\n",
       "      <td>24.4</td>\n",
       "      <td>17.2</td>\n",
       "      <td>18.3</td>\n",
       "    </tr>\n",
       "    <tr>\n",
       "      <th>10</th>\n",
       "      <td>2018-10-11</td>\n",
       "      <td>26.1</td>\n",
       "      <td>17.8</td>\n",
       "      <td>21.7</td>\n",
       "    </tr>\n",
       "    <tr>\n",
       "      <th>11</th>\n",
       "      <td>2018-10-12</td>\n",
       "      <td>22.8</td>\n",
       "      <td>14.4</td>\n",
       "      <td>15.6</td>\n",
       "    </tr>\n",
       "    <tr>\n",
       "      <th>12</th>\n",
       "      <td>2018-10-13</td>\n",
       "      <td>15.6</td>\n",
       "      <td>7.2</td>\n",
       "      <td>8.3</td>\n",
       "    </tr>\n",
       "    <tr>\n",
       "      <th>13</th>\n",
       "      <td>2018-10-14</td>\n",
       "      <td>13.3</td>\n",
       "      <td>5.6</td>\n",
       "      <td>6.7</td>\n",
       "    </tr>\n",
       "    <tr>\n",
       "      <th>14</th>\n",
       "      <td>2018-10-15</td>\n",
       "      <td>13.3</td>\n",
       "      <td>6.7</td>\n",
       "      <td>10.0</td>\n",
       "    </tr>\n",
       "    <tr>\n",
       "      <th>15</th>\n",
       "      <td>2018-10-16</td>\n",
       "      <td>18.9</td>\n",
       "      <td>7.8</td>\n",
       "      <td>7.8</td>\n",
       "    </tr>\n",
       "    <tr>\n",
       "      <th>16</th>\n",
       "      <td>2018-10-17</td>\n",
       "      <td>13.3</td>\n",
       "      <td>3.3</td>\n",
       "      <td>5.0</td>\n",
       "    </tr>\n",
       "    <tr>\n",
       "      <th>17</th>\n",
       "      <td>2018-10-18</td>\n",
       "      <td>16.1</td>\n",
       "      <td>4.4</td>\n",
       "      <td>5.0</td>\n",
       "    </tr>\n",
       "    <tr>\n",
       "      <th>18</th>\n",
       "      <td>2018-10-19</td>\n",
       "      <td>10.0</td>\n",
       "      <td>-1.1</td>\n",
       "      <td>0.0</td>\n",
       "    </tr>\n",
       "    <tr>\n",
       "      <th>19</th>\n",
       "      <td>2018-10-20</td>\n",
       "      <td>15.0</td>\n",
       "      <td>-0.6</td>\n",
       "      <td>10.6</td>\n",
       "    </tr>\n",
       "    <tr>\n",
       "      <th>20</th>\n",
       "      <td>2018-10-21</td>\n",
       "      <td>16.7</td>\n",
       "      <td>7.8</td>\n",
       "      <td>7.8</td>\n",
       "    </tr>\n",
       "    <tr>\n",
       "      <th>21</th>\n",
       "      <td>2018-10-22</td>\n",
       "      <td>7.8</td>\n",
       "      <td>-1.1</td>\n",
       "      <td>-1.1</td>\n",
       "    </tr>\n",
       "    <tr>\n",
       "      <th>22</th>\n",
       "      <td>2018-10-23</td>\n",
       "      <td>15.6</td>\n",
       "      <td>-1.1</td>\n",
       "      <td>10.0</td>\n",
       "    </tr>\n",
       "    <tr>\n",
       "      <th>23</th>\n",
       "      <td>2018-10-24</td>\n",
       "      <td>16.7</td>\n",
       "      <td>4.4</td>\n",
       "      <td>6.7</td>\n",
       "    </tr>\n",
       "    <tr>\n",
       "      <th>24</th>\n",
       "      <td>2018-10-25</td>\n",
       "      <td>11.7</td>\n",
       "      <td>2.8</td>\n",
       "      <td>2.8</td>\n",
       "    </tr>\n",
       "    <tr>\n",
       "      <th>25</th>\n",
       "      <td>2018-10-26</td>\n",
       "      <td>9.4</td>\n",
       "      <td>-0.6</td>\n",
       "      <td>-0.6</td>\n",
       "    </tr>\n",
       "    <tr>\n",
       "      <th>26</th>\n",
       "      <td>2018-10-27</td>\n",
       "      <td>8.9</td>\n",
       "      <td>-0.6</td>\n",
       "      <td>6.1</td>\n",
       "    </tr>\n",
       "    <tr>\n",
       "      <th>27</th>\n",
       "      <td>2018-10-28</td>\n",
       "      <td>8.3</td>\n",
       "      <td>5.0</td>\n",
       "      <td>7.2</td>\n",
       "    </tr>\n",
       "    <tr>\n",
       "      <th>28</th>\n",
       "      <td>2018-10-29</td>\n",
       "      <td>10.6</td>\n",
       "      <td>6.7</td>\n",
       "      <td>8.3</td>\n",
       "    </tr>\n",
       "    <tr>\n",
       "      <th>29</th>\n",
       "      <td>2018-10-30</td>\n",
       "      <td>13.3</td>\n",
       "      <td>2.2</td>\n",
       "      <td>5.0</td>\n",
       "    </tr>\n",
       "    <tr>\n",
       "      <th>30</th>\n",
       "      <td>2018-10-31</td>\n",
       "      <td>12.2</td>\n",
       "      <td>0.0</td>\n",
       "      <td>0.0</td>\n",
       "    </tr>\n",
       "  </tbody>\n",
       "</table>\n",
       "</div>"
      ],
      "text/plain": [
       "         date  TMAX  TMIN  TOBS\n",
       "0  2018-10-01  21.1   8.9  13.9\n",
       "1  2018-10-02  23.9  13.9  17.2\n",
       "2  2018-10-03  25.0  15.6  16.1\n",
       "3  2018-10-04  22.8  11.7  11.7\n",
       "4  2018-10-05  23.3  11.7  18.9\n",
       "5  2018-10-06  20.0  13.3  16.1\n",
       "6  2018-10-07  20.0  16.1  20.0\n",
       "7  2018-10-08  26.7  17.8  17.8\n",
       "8  2018-10-09  18.9  17.2  17.8\n",
       "9  2018-10-10  24.4  17.2  18.3\n",
       "10 2018-10-11  26.1  17.8  21.7\n",
       "11 2018-10-12  22.8  14.4  15.6\n",
       "12 2018-10-13  15.6   7.2   8.3\n",
       "13 2018-10-14  13.3   5.6   6.7\n",
       "14 2018-10-15  13.3   6.7  10.0\n",
       "15 2018-10-16  18.9   7.8   7.8\n",
       "16 2018-10-17  13.3   3.3   5.0\n",
       "17 2018-10-18  16.1   4.4   5.0\n",
       "18 2018-10-19  10.0  -1.1   0.0\n",
       "19 2018-10-20  15.0  -0.6  10.6\n",
       "20 2018-10-21  16.7   7.8   7.8\n",
       "21 2018-10-22   7.8  -1.1  -1.1\n",
       "22 2018-10-23  15.6  -1.1  10.0\n",
       "23 2018-10-24  16.7   4.4   6.7\n",
       "24 2018-10-25  11.7   2.8   2.8\n",
       "25 2018-10-26   9.4  -0.6  -0.6\n",
       "26 2018-10-27   8.9  -0.6   6.1\n",
       "27 2018-10-28   8.3   5.0   7.2\n",
       "28 2018-10-29  10.6   6.7   8.3\n",
       "29 2018-10-30  13.3   2.2   5.0\n",
       "30 2018-10-31  12.2   0.0   0.0"
      ]
     },
     "execution_count": 4,
     "metadata": {},
     "output_type": "execute_result"
    }
   ],
   "source": [
    "df1"
   ]
  },
  {
   "cell_type": "markdown",
   "id": "f5893bd4",
   "metadata": {},
   "source": [
    "#### ¿En qué fecha se dío la temperatura máxima TMAX, temperatura mínima TMIN?"
   ]
  },
  {
   "cell_type": "code",
   "execution_count": 5,
   "id": "649bbcd2",
   "metadata": {},
   "outputs": [
    {
     "name": "stdout",
     "output_type": "stream",
     "text": [
      "Valor maximo:  26.7\n"
     ]
    },
    {
     "data": {
      "text/html": [
       "<div>\n",
       "<style scoped>\n",
       "    .dataframe tbody tr th:only-of-type {\n",
       "        vertical-align: middle;\n",
       "    }\n",
       "\n",
       "    .dataframe tbody tr th {\n",
       "        vertical-align: top;\n",
       "    }\n",
       "\n",
       "    .dataframe thead th {\n",
       "        text-align: right;\n",
       "    }\n",
       "</style>\n",
       "<table border=\"1\" class=\"dataframe\">\n",
       "  <thead>\n",
       "    <tr style=\"text-align: right;\">\n",
       "      <th></th>\n",
       "      <th>date</th>\n",
       "      <th>TMAX</th>\n",
       "      <th>TMIN</th>\n",
       "      <th>TOBS</th>\n",
       "    </tr>\n",
       "  </thead>\n",
       "  <tbody>\n",
       "    <tr>\n",
       "      <th>7</th>\n",
       "      <td>2018-10-08</td>\n",
       "      <td>26.7</td>\n",
       "      <td>17.8</td>\n",
       "      <td>17.8</td>\n",
       "    </tr>\n",
       "  </tbody>\n",
       "</table>\n",
       "</div>"
      ],
      "text/plain": [
       "        date  TMAX  TMIN  TOBS\n",
       "7 2018-10-08  26.7  17.8  17.8"
      ]
     },
     "execution_count": 5,
     "metadata": {},
     "output_type": "execute_result"
    }
   ],
   "source": [
    "TMAX_max=df1['TMAX'].max() # Encuentra el valor maximo de la columna TMAX\n",
    "print('Valor maximo: ',TMAX_max)\n",
    "df1[df1['TMAX']==TMAX_max] # Muestra el dataframe con el valor maximo de encontrado"
   ]
  },
  {
   "cell_type": "code",
   "execution_count": 6,
   "id": "a7a14615",
   "metadata": {},
   "outputs": [
    {
     "name": "stdout",
     "output_type": "stream",
     "text": [
      "Valor minimo:  -1.1\n"
     ]
    },
    {
     "data": {
      "text/html": [
       "<div>\n",
       "<style scoped>\n",
       "    .dataframe tbody tr th:only-of-type {\n",
       "        vertical-align: middle;\n",
       "    }\n",
       "\n",
       "    .dataframe tbody tr th {\n",
       "        vertical-align: top;\n",
       "    }\n",
       "\n",
       "    .dataframe thead th {\n",
       "        text-align: right;\n",
       "    }\n",
       "</style>\n",
       "<table border=\"1\" class=\"dataframe\">\n",
       "  <thead>\n",
       "    <tr style=\"text-align: right;\">\n",
       "      <th></th>\n",
       "      <th>date</th>\n",
       "      <th>TMAX</th>\n",
       "      <th>TMIN</th>\n",
       "      <th>TOBS</th>\n",
       "    </tr>\n",
       "  </thead>\n",
       "  <tbody>\n",
       "    <tr>\n",
       "      <th>18</th>\n",
       "      <td>2018-10-19</td>\n",
       "      <td>10.0</td>\n",
       "      <td>-1.1</td>\n",
       "      <td>0.0</td>\n",
       "    </tr>\n",
       "    <tr>\n",
       "      <th>21</th>\n",
       "      <td>2018-10-22</td>\n",
       "      <td>7.8</td>\n",
       "      <td>-1.1</td>\n",
       "      <td>-1.1</td>\n",
       "    </tr>\n",
       "    <tr>\n",
       "      <th>22</th>\n",
       "      <td>2018-10-23</td>\n",
       "      <td>15.6</td>\n",
       "      <td>-1.1</td>\n",
       "      <td>10.0</td>\n",
       "    </tr>\n",
       "  </tbody>\n",
       "</table>\n",
       "</div>"
      ],
      "text/plain": [
       "         date  TMAX  TMIN  TOBS\n",
       "18 2018-10-19  10.0  -1.1   0.0\n",
       "21 2018-10-22   7.8  -1.1  -1.1\n",
       "22 2018-10-23  15.6  -1.1  10.0"
      ]
     },
     "execution_count": 6,
     "metadata": {},
     "output_type": "execute_result"
    }
   ],
   "source": [
    "TMIN_min=df1['TMIN'].min() # Encuentra el valor minimo de la columna TMIN\n",
    "print('Valor minimo: ',TMIN_min)\n",
    "df1[df1['TMIN']==TMIN_min] # Muestra el dataframe con el valor minimo encontrado"
   ]
  },
  {
   "cell_type": "markdown",
   "id": "0ce8b49e",
   "metadata": {},
   "source": [
    "El data frame muestra que se dio el valor minimo en tres fechas"
   ]
  },
  {
   "cell_type": "markdown",
   "id": "f1921420",
   "metadata": {},
   "source": [
    "### Grafique los histogramas de TMAX y TMIN?\n",
    "### ¿ Cuál es la desviación estandar, la media aritmética y los quatiles de los tres parámetros TMAX, TMIN y TOBS?"
   ]
  },
  {
   "cell_type": "code",
   "execution_count": 7,
   "id": "8f791261",
   "metadata": {},
   "outputs": [
    {
     "data": {
      "text/html": [
       "<div>\n",
       "<style scoped>\n",
       "    .dataframe tbody tr th:only-of-type {\n",
       "        vertical-align: middle;\n",
       "    }\n",
       "\n",
       "    .dataframe tbody tr th {\n",
       "        vertical-align: top;\n",
       "    }\n",
       "\n",
       "    .dataframe thead th {\n",
       "        text-align: right;\n",
       "    }\n",
       "</style>\n",
       "<table border=\"1\" class=\"dataframe\">\n",
       "  <thead>\n",
       "    <tr style=\"text-align: right;\">\n",
       "      <th></th>\n",
       "      <th>TMAX</th>\n",
       "      <th>TMIN</th>\n",
       "      <th>TOBS</th>\n",
       "    </tr>\n",
       "  </thead>\n",
       "  <tbody>\n",
       "    <tr>\n",
       "      <th>count</th>\n",
       "      <td>31.000000</td>\n",
       "      <td>31.000000</td>\n",
       "      <td>31.000000</td>\n",
       "    </tr>\n",
       "    <tr>\n",
       "      <th>mean</th>\n",
       "      <td>16.829032</td>\n",
       "      <td>7.561290</td>\n",
       "      <td>10.022581</td>\n",
       "    </tr>\n",
       "    <tr>\n",
       "      <th>std</th>\n",
       "      <td>5.714962</td>\n",
       "      <td>6.513252</td>\n",
       "      <td>6.596550</td>\n",
       "    </tr>\n",
       "    <tr>\n",
       "      <th>min</th>\n",
       "      <td>7.800000</td>\n",
       "      <td>-1.100000</td>\n",
       "      <td>-1.100000</td>\n",
       "    </tr>\n",
       "    <tr>\n",
       "      <th>25%</th>\n",
       "      <td>12.750000</td>\n",
       "      <td>2.500000</td>\n",
       "      <td>5.550000</td>\n",
       "    </tr>\n",
       "    <tr>\n",
       "      <th>50%</th>\n",
       "      <td>16.100000</td>\n",
       "      <td>6.700000</td>\n",
       "      <td>8.300000</td>\n",
       "    </tr>\n",
       "    <tr>\n",
       "      <th>75%</th>\n",
       "      <td>21.950000</td>\n",
       "      <td>13.600000</td>\n",
       "      <td>16.100000</td>\n",
       "    </tr>\n",
       "    <tr>\n",
       "      <th>max</th>\n",
       "      <td>26.700000</td>\n",
       "      <td>17.800000</td>\n",
       "      <td>21.700000</td>\n",
       "    </tr>\n",
       "  </tbody>\n",
       "</table>\n",
       "</div>"
      ],
      "text/plain": [
       "            TMAX       TMIN       TOBS\n",
       "count  31.000000  31.000000  31.000000\n",
       "mean   16.829032   7.561290  10.022581\n",
       "std     5.714962   6.513252   6.596550\n",
       "min     7.800000  -1.100000  -1.100000\n",
       "25%    12.750000   2.500000   5.550000\n",
       "50%    16.100000   6.700000   8.300000\n",
       "75%    21.950000  13.600000  16.100000\n",
       "max    26.700000  17.800000  21.700000"
      ]
     },
     "execution_count": 7,
     "metadata": {},
     "output_type": "execute_result"
    }
   ],
   "source": [
    "import matplotlib.pyplot as plt\n",
    "df1.describe() # Parametros estadisticos de forma global"
   ]
  },
  {
   "cell_type": "code",
   "execution_count": 8,
   "id": "f1915581",
   "metadata": {},
   "outputs": [
    {
     "name": "stdout",
     "output_type": "stream",
     "text": [
      "Desviacion de TMAX:  5.715\n",
      "Media de TMAX     :  16.829\n",
      "Percentil 25 de TMAX:  12.75\n",
      "Percentil 50 de TMAX:  16.1\n",
      "Percentil 75 de TMAX:  21.95\n"
     ]
    }
   ],
   "source": [
    "# Calculando parametros por separado de  de TMAX\n",
    "TMAX_Media=df1.TMAX.mean() # Calcula la media de TMAX\n",
    "TMAX_Desv=df1.TMAX.std()   # Calcula la desviacion  de TMAX\n",
    "TMAX_Percent25=df1.TMAX.quantile(.25) # Calcula el percintil 25%\n",
    "TMAX_Percent50=df1.TMAX.quantile(.50) # Calcula el percintil 50%\n",
    "TMAX_Percent75=df1.TMAX.quantile(.75) # Calcula el percintil 75%\n",
    "print('Desviacion de TMAX: ',round(TMAX_Desv,3))\n",
    "print('Media de TMAX     : ',round(TMAX_Media,3))\n",
    "print('Percentil 25 de TMAX: ',TMAX_Percent25)\n",
    "print('Percentil 50 de TMAX: ',TMAX_Percent50)\n",
    "print('Percentil 75 de TMAX: ',round(TMAX_Percent75,3))"
   ]
  },
  {
   "cell_type": "code",
   "execution_count": 9,
   "id": "66bc0e1a",
   "metadata": {},
   "outputs": [
    {
     "name": "stdout",
     "output_type": "stream",
     "text": [
      "Desviacion de TMIN:  6.513\n",
      "Media de TMIN     :  7.561\n",
      "Percentil 25 de TMAX:  2.5\n",
      "Percentil 50 de TMAX:  6.7\n",
      "Percentil 75 de TMAX:  13.6\n"
     ]
    }
   ],
   "source": [
    "# Calculando parametros por separado de  de TMIN\n",
    "TMIN_Media=df1.TMIN.mean() # Calcula la media de TMIN\n",
    "TMIN_Desv=df1.TMIN.std()   # Calcula la desviacion  de TMIN\n",
    "TMIN_Percent25=df1.TMIN.quantile(.25) # Calcula el percintil 25%\n",
    "TMIN_Percent50=df1.TMIN.quantile(.50) # Calcula el percintil 50%\n",
    "TMIN_Percent75=df1.TMIN.quantile(.75) # Calcula el percintil 75%\n",
    "print('Desviacion de TMIN: ',round(TMIN_Desv,3))\n",
    "print('Media de TMIN     : ',round(TMIN_Media,3))\n",
    "print('Percentil 25 de TMAX: ',TMIN_Percent25)\n",
    "print('Percentil 50 de TMAX: ',TMIN_Percent50)\n",
    "print('Percentil 75 de TMAX: ',round(TMIN_Percent75,3))"
   ]
  },
  {
   "cell_type": "code",
   "execution_count": 10,
   "id": "037aa170",
   "metadata": {},
   "outputs": [
    {
     "name": "stdout",
     "output_type": "stream",
     "text": [
      "Desviacion de TOBS:  6.513\n",
      "Media de TOBS     :  7.561\n",
      "Percentil 25 de TOBS:  5.55\n",
      "Percentil 50 de TOBS:  8.3\n",
      "Percentil 75 de TOBS:  16.1\n"
     ]
    }
   ],
   "source": [
    "# Calculando parametros por separado de  de TOBS\n",
    "TOBS_Media=df1.TOBS.mean() # Calcula la media de TOBS\n",
    "TOBS_Desv=df1.TOBS.std()   # Calcula la desviacion  de TOBS\n",
    "TOBS_Percent25=df1.TOBS.quantile(.25) # Calcula el percintil 25%\n",
    "TOBS_Percent50=df1.TOBS.quantile(.50) # Calcula el percintil 50%\n",
    "TOBS_Percent75=df1.TOBS.quantile(.75) # Calcula el percintil 75%\n",
    "print('Desviacion de TOBS: ',round(TMIN_Desv,3))\n",
    "print('Media de TOBS     : ',round(TMIN_Media,3))\n",
    "print('Percentil 25 de TOBS: ',TOBS_Percent25)\n",
    "print('Percentil 50 de TOBS: ',TOBS_Percent50)\n",
    "print('Percentil 75 de TOBS: ',round(TOBS_Percent75,3))"
   ]
  },
  {
   "cell_type": "code",
   "execution_count": 11,
   "id": "da806efc",
   "metadata": {},
   "outputs": [],
   "source": [
    "#df1.set_index(['date']).TMAX.plot(figsize=(16,8)) # Grafica del dataframe la columna TMAX en Eje(y) y Date en Eje(x) \n"
   ]
  },
  {
   "cell_type": "code",
   "execution_count": 12,
   "id": "039b3d57",
   "metadata": {},
   "outputs": [
    {
     "data": {
      "image/png": "[encoded data removed]",
      "text/plain": [
       "<Figure size 1600x800 with 1 Axes>"
      ]
     },
     "metadata": {},
     "output_type": "display_data"
    }
   ],
   "source": [
    "df1.hist(column=['TMAX'],figsize=(16,8), bins=50)  #### Grafica de histograma de TMAX\n",
    "plt.axvline(TMAX_Media,label='TMAX',color='red') ## Graficar ubicacion de la mediana\n",
    "plt.legend();"
   ]
  },
  {
   "cell_type": "code",
   "execution_count": 13,
   "id": "6979d30d",
   "metadata": {},
   "outputs": [],
   "source": [
    "#df1.set_index(['date']).TMIN.plot(figsize=(16,8)) # Grafica del dataframe la columna TMIN en Eje(y) y Date en Eje(x)"
   ]
  },
  {
   "cell_type": "code",
   "execution_count": 14,
   "id": "c8f4b99d",
   "metadata": {},
   "outputs": [
    {
     "data": {
      "image/png": "[encoded data removed]",
      "text/plain": [
       "<Figure size 1600x800 with 1 Axes>"
      ]
     },
     "metadata": {},
     "output_type": "display_data"
    }
   ],
   "source": [
    "df1.hist(column=['TMIN'],figsize=(16,8), bins=50)  #### Grafica de histograma de TMIN\n",
    "TMIN_Media=df1.TMIN.mean()\n",
    "plt.axvline(TMIN_Media,label='TMIN',color='red') ## Graficar ubicacion de la mediana\n",
    "plt.legend();"
   ]
  },
  {
   "cell_type": "markdown",
   "id": "18bbc00a",
   "metadata": {},
   "source": [
    "### ¿ En qué rango de fechas la temperatura observada TOBS estaba en el rango  (media(TOBS)-std, meida(TOBS)+std)? Es decir, dentro del intervalo con centro en la media aritmética y radio la desviación estandar?"
   ]
  },
  {
   "cell_type": "code",
   "execution_count": 15,
   "id": "e89100b0",
   "metadata": {},
   "outputs": [],
   "source": [
    "## Ejecute su código aquí y/o escriba su respuesta, agregue más celdas de ser necesario.\n"
   ]
  },
  {
   "cell_type": "markdown",
   "id": "5d978772",
   "metadata": {},
   "source": [
    "### $P\\left\\{ \\bar{X}-1.96\\frac{\\sigma}{\\sqrt N}\\leq\\mu\\leq \\bar{X}+1.96\\frac{\\sigma}{\\sqrt N} \\right\\}=0.95$"
   ]
  },
  {
   "cell_type": "code",
   "execution_count": 16,
   "id": "3f37ac7b",
   "metadata": {},
   "outputs": [
    {
     "data": {
      "image/png": "[encoded data removed]",
      "text/plain": [
       "<Figure size 2400x800 with 1 Axes>"
      ]
     },
     "metadata": {},
     "output_type": "display_data"
    }
   ],
   "source": [
    "low=TMAX_Media-1.96*TMAX_Desv/np.sqrt(len(df1))\n",
    "high=TMAX_Media+1.96*TMAX_Desv/np.sqrt(len(df1))\n",
    "df1.TMAX.hist(bins=200, density=True, figsize=(24,8))\n",
    "plt.axvline(TMAX_Media,label='mean',color='red')\n",
    "plt.axvline(low,label='low',color='orange')\n",
    "plt.axvline(high,label='high',color='orange')\n",
    "plt.legend();"
   ]
  },
  {
   "cell_type": "markdown",
   "id": "74d6fb99",
   "metadata": {},
   "source": [
    "### Leeremos el archivo long_data.csv, para ello ejecutaremos los siguientes comandos.\n",
    "\n",
    "### ¿ qué diferencia hay entre ejecutar los siguientes comandos \n",
    "\n",
    "### pd.read_csv('long_data.csv'),  \n",
    "### pd.read_csv('long_data.csv', usecols=['date', 'datatype', 'value']),\n",
    "###  pd.read_csv('long_data.csv',usecols=['date', 'datatype', 'value'], parse_dates=['date'] )   ?"
   ]
  },
  {
   "cell_type": "code",
   "execution_count": 17,
   "id": "c0f303dc",
   "metadata": {},
   "outputs": [],
   "source": [
    "## Ejecute su código aquí y/o escriba su respuesta, agregue más celdas de ser necesario."
   ]
  },
  {
   "cell_type": "code",
   "execution_count": 18,
   "id": "4482dc6f",
   "metadata": {},
   "outputs": [
    {
     "data": {
      "text/html": [
       "<div>\n",
       "<style scoped>\n",
       "    .dataframe tbody tr th:only-of-type {\n",
       "        vertical-align: middle;\n",
       "    }\n",
       "\n",
       "    .dataframe tbody tr th {\n",
       "        vertical-align: top;\n",
       "    }\n",
       "\n",
       "    .dataframe thead th {\n",
       "        text-align: right;\n",
       "    }\n",
       "</style>\n",
       "<table border=\"1\" class=\"dataframe\">\n",
       "  <thead>\n",
       "    <tr style=\"text-align: right;\">\n",
       "      <th></th>\n",
       "      <th>attributes</th>\n",
       "      <th>datatype</th>\n",
       "      <th>date</th>\n",
       "      <th>station</th>\n",
       "      <th>value</th>\n",
       "    </tr>\n",
       "  </thead>\n",
       "  <tbody>\n",
       "    <tr>\n",
       "      <th>0</th>\n",
       "      <td>,,H,0700</td>\n",
       "      <td>TMAX</td>\n",
       "      <td>2018-10-01T00:00:00</td>\n",
       "      <td>GHCND:USC00280907</td>\n",
       "      <td>21.1</td>\n",
       "    </tr>\n",
       "    <tr>\n",
       "      <th>1</th>\n",
       "      <td>,,H,0700</td>\n",
       "      <td>TMIN</td>\n",
       "      <td>2018-10-01T00:00:00</td>\n",
       "      <td>GHCND:USC00280907</td>\n",
       "      <td>8.9</td>\n",
       "    </tr>\n",
       "    <tr>\n",
       "      <th>2</th>\n",
       "      <td>,,H,0700</td>\n",
       "      <td>TOBS</td>\n",
       "      <td>2018-10-01T00:00:00</td>\n",
       "      <td>GHCND:USC00280907</td>\n",
       "      <td>13.9</td>\n",
       "    </tr>\n",
       "    <tr>\n",
       "      <th>3</th>\n",
       "      <td>,,H,0700</td>\n",
       "      <td>TMAX</td>\n",
       "      <td>2018-10-02T00:00:00</td>\n",
       "      <td>GHCND:USC00280907</td>\n",
       "      <td>23.9</td>\n",
       "    </tr>\n",
       "    <tr>\n",
       "      <th>4</th>\n",
       "      <td>,,H,0700</td>\n",
       "      <td>TMIN</td>\n",
       "      <td>2018-10-02T00:00:00</td>\n",
       "      <td>GHCND:USC00280907</td>\n",
       "      <td>13.9</td>\n",
       "    </tr>\n",
       "    <tr>\n",
       "      <th>...</th>\n",
       "      <td>...</td>\n",
       "      <td>...</td>\n",
       "      <td>...</td>\n",
       "      <td>...</td>\n",
       "      <td>...</td>\n",
       "    </tr>\n",
       "    <tr>\n",
       "      <th>88</th>\n",
       "      <td>,,H,0700</td>\n",
       "      <td>TMIN</td>\n",
       "      <td>2018-10-30T00:00:00</td>\n",
       "      <td>GHCND:USC00280907</td>\n",
       "      <td>2.2</td>\n",
       "    </tr>\n",
       "    <tr>\n",
       "      <th>89</th>\n",
       "      <td>,,H,0700</td>\n",
       "      <td>TOBS</td>\n",
       "      <td>2018-10-30T00:00:00</td>\n",
       "      <td>GHCND:USC00280907</td>\n",
       "      <td>5.0</td>\n",
       "    </tr>\n",
       "    <tr>\n",
       "      <th>90</th>\n",
       "      <td>,,H,0700</td>\n",
       "      <td>TMAX</td>\n",
       "      <td>2018-10-31T00:00:00</td>\n",
       "      <td>GHCND:USC00280907</td>\n",
       "      <td>12.2</td>\n",
       "    </tr>\n",
       "    <tr>\n",
       "      <th>91</th>\n",
       "      <td>,,H,0700</td>\n",
       "      <td>TMIN</td>\n",
       "      <td>2018-10-31T00:00:00</td>\n",
       "      <td>GHCND:USC00280907</td>\n",
       "      <td>0.0</td>\n",
       "    </tr>\n",
       "    <tr>\n",
       "      <th>92</th>\n",
       "      <td>,,H,0700</td>\n",
       "      <td>TOBS</td>\n",
       "      <td>2018-10-31T00:00:00</td>\n",
       "      <td>GHCND:USC00280907</td>\n",
       "      <td>0.0</td>\n",
       "    </tr>\n",
       "  </tbody>\n",
       "</table>\n",
       "<p>93 rows × 5 columns</p>\n",
       "</div>"
      ],
      "text/plain": [
       "   attributes datatype                 date            station  value\n",
       "0    ,,H,0700     TMAX  2018-10-01T00:00:00  GHCND:USC00280907   21.1\n",
       "1    ,,H,0700     TMIN  2018-10-01T00:00:00  GHCND:USC00280907    8.9\n",
       "2    ,,H,0700     TOBS  2018-10-01T00:00:00  GHCND:USC00280907   13.9\n",
       "3    ,,H,0700     TMAX  2018-10-02T00:00:00  GHCND:USC00280907   23.9\n",
       "4    ,,H,0700     TMIN  2018-10-02T00:00:00  GHCND:USC00280907   13.9\n",
       "..        ...      ...                  ...                ...    ...\n",
       "88   ,,H,0700     TMIN  2018-10-30T00:00:00  GHCND:USC00280907    2.2\n",
       "89   ,,H,0700     TOBS  2018-10-30T00:00:00  GHCND:USC00280907    5.0\n",
       "90   ,,H,0700     TMAX  2018-10-31T00:00:00  GHCND:USC00280907   12.2\n",
       "91   ,,H,0700     TMIN  2018-10-31T00:00:00  GHCND:USC00280907    0.0\n",
       "92   ,,H,0700     TOBS  2018-10-31T00:00:00  GHCND:USC00280907    0.0\n",
       "\n",
       "[93 rows x 5 columns]"
      ]
     },
     "execution_count": 18,
     "metadata": {},
     "output_type": "execute_result"
    }
   ],
   "source": [
    "pd.read_csv('long_data.csv')"
   ]
  },
  {
   "cell_type": "markdown",
   "id": "e6805c37",
   "metadata": {},
   "source": [
    "### pd.read_csv('long_data.csv')\n",
    "Esta instruccion solo leera el archivo csv en parametros por defecto , ademas leera todo el conenido de arreglos que conforman en archivo"
   ]
  },
  {
   "cell_type": "code",
   "execution_count": 19,
   "id": "fac1899d",
   "metadata": {},
   "outputs": [
    {
     "data": {
      "text/html": [
       "<div>\n",
       "<style scoped>\n",
       "    .dataframe tbody tr th:only-of-type {\n",
       "        vertical-align: middle;\n",
       "    }\n",
       "\n",
       "    .dataframe tbody tr th {\n",
       "        vertical-align: top;\n",
       "    }\n",
       "\n",
       "    .dataframe thead th {\n",
       "        text-align: right;\n",
       "    }\n",
       "</style>\n",
       "<table border=\"1\" class=\"dataframe\">\n",
       "  <thead>\n",
       "    <tr style=\"text-align: right;\">\n",
       "      <th></th>\n",
       "      <th>datatype</th>\n",
       "      <th>date</th>\n",
       "      <th>value</th>\n",
       "    </tr>\n",
       "  </thead>\n",
       "  <tbody>\n",
       "    <tr>\n",
       "      <th>0</th>\n",
       "      <td>TMAX</td>\n",
       "      <td>2018-10-01T00:00:00</td>\n",
       "      <td>21.1</td>\n",
       "    </tr>\n",
       "    <tr>\n",
       "      <th>1</th>\n",
       "      <td>TMIN</td>\n",
       "      <td>2018-10-01T00:00:00</td>\n",
       "      <td>8.9</td>\n",
       "    </tr>\n",
       "    <tr>\n",
       "      <th>2</th>\n",
       "      <td>TOBS</td>\n",
       "      <td>2018-10-01T00:00:00</td>\n",
       "      <td>13.9</td>\n",
       "    </tr>\n",
       "    <tr>\n",
       "      <th>3</th>\n",
       "      <td>TMAX</td>\n",
       "      <td>2018-10-02T00:00:00</td>\n",
       "      <td>23.9</td>\n",
       "    </tr>\n",
       "    <tr>\n",
       "      <th>4</th>\n",
       "      <td>TMIN</td>\n",
       "      <td>2018-10-02T00:00:00</td>\n",
       "      <td>13.9</td>\n",
       "    </tr>\n",
       "    <tr>\n",
       "      <th>...</th>\n",
       "      <td>...</td>\n",
       "      <td>...</td>\n",
       "      <td>...</td>\n",
       "    </tr>\n",
       "    <tr>\n",
       "      <th>88</th>\n",
       "      <td>TMIN</td>\n",
       "      <td>2018-10-30T00:00:00</td>\n",
       "      <td>2.2</td>\n",
       "    </tr>\n",
       "    <tr>\n",
       "      <th>89</th>\n",
       "      <td>TOBS</td>\n",
       "      <td>2018-10-30T00:00:00</td>\n",
       "      <td>5.0</td>\n",
       "    </tr>\n",
       "    <tr>\n",
       "      <th>90</th>\n",
       "      <td>TMAX</td>\n",
       "      <td>2018-10-31T00:00:00</td>\n",
       "      <td>12.2</td>\n",
       "    </tr>\n",
       "    <tr>\n",
       "      <th>91</th>\n",
       "      <td>TMIN</td>\n",
       "      <td>2018-10-31T00:00:00</td>\n",
       "      <td>0.0</td>\n",
       "    </tr>\n",
       "    <tr>\n",
       "      <th>92</th>\n",
       "      <td>TOBS</td>\n",
       "      <td>2018-10-31T00:00:00</td>\n",
       "      <td>0.0</td>\n",
       "    </tr>\n",
       "  </tbody>\n",
       "</table>\n",
       "<p>93 rows × 3 columns</p>\n",
       "</div>"
      ],
      "text/plain": [
       "   datatype                 date  value\n",
       "0      TMAX  2018-10-01T00:00:00   21.1\n",
       "1      TMIN  2018-10-01T00:00:00    8.9\n",
       "2      TOBS  2018-10-01T00:00:00   13.9\n",
       "3      TMAX  2018-10-02T00:00:00   23.9\n",
       "4      TMIN  2018-10-02T00:00:00   13.9\n",
       "..      ...                  ...    ...\n",
       "88     TMIN  2018-10-30T00:00:00    2.2\n",
       "89     TOBS  2018-10-30T00:00:00    5.0\n",
       "90     TMAX  2018-10-31T00:00:00   12.2\n",
       "91     TMIN  2018-10-31T00:00:00    0.0\n",
       "92     TOBS  2018-10-31T00:00:00    0.0\n",
       "\n",
       "[93 rows x 3 columns]"
      ]
     },
     "execution_count": 19,
     "metadata": {},
     "output_type": "execute_result"
    }
   ],
   "source": [
    "pd.read_csv('long_data.csv', usecols=['date', 'datatype', 'value'])"
   ]
  },
  {
   "cell_type": "markdown",
   "id": "e82c8a4c",
   "metadata": {},
   "source": [
    "### pd.read_csv('long_data.csv', usecols=['date', 'datatype', 'value'])\n",
    "Esta instruccion  leera el archivo csv y formanra un subconjunto de arreglos definidos por usecol.\n",
    "Para nuestro caso formara el arreglo con la columnas date,datatype,value que son 3 columnas"
   ]
  },
  {
   "cell_type": "code",
   "execution_count": 20,
   "id": "9c786b0d",
   "metadata": {},
   "outputs": [
    {
     "data": {
      "text/html": [
       "<div>\n",
       "<style scoped>\n",
       "    .dataframe tbody tr th:only-of-type {\n",
       "        vertical-align: middle;\n",
       "    }\n",
       "\n",
       "    .dataframe tbody tr th {\n",
       "        vertical-align: top;\n",
       "    }\n",
       "\n",
       "    .dataframe thead th {\n",
       "        text-align: right;\n",
       "    }\n",
       "</style>\n",
       "<table border=\"1\" class=\"dataframe\">\n",
       "  <thead>\n",
       "    <tr style=\"text-align: right;\">\n",
       "      <th></th>\n",
       "      <th>datatype</th>\n",
       "      <th>date</th>\n",
       "      <th>value</th>\n",
       "    </tr>\n",
       "  </thead>\n",
       "  <tbody>\n",
       "    <tr>\n",
       "      <th>0</th>\n",
       "      <td>TMAX</td>\n",
       "      <td>2018-10-01</td>\n",
       "      <td>21.1</td>\n",
       "    </tr>\n",
       "    <tr>\n",
       "      <th>1</th>\n",
       "      <td>TMIN</td>\n",
       "      <td>2018-10-01</td>\n",
       "      <td>8.9</td>\n",
       "    </tr>\n",
       "    <tr>\n",
       "      <th>2</th>\n",
       "      <td>TOBS</td>\n",
       "      <td>2018-10-01</td>\n",
       "      <td>13.9</td>\n",
       "    </tr>\n",
       "    <tr>\n",
       "      <th>3</th>\n",
       "      <td>TMAX</td>\n",
       "      <td>2018-10-02</td>\n",
       "      <td>23.9</td>\n",
       "    </tr>\n",
       "    <tr>\n",
       "      <th>4</th>\n",
       "      <td>TMIN</td>\n",
       "      <td>2018-10-02</td>\n",
       "      <td>13.9</td>\n",
       "    </tr>\n",
       "    <tr>\n",
       "      <th>...</th>\n",
       "      <td>...</td>\n",
       "      <td>...</td>\n",
       "      <td>...</td>\n",
       "    </tr>\n",
       "    <tr>\n",
       "      <th>88</th>\n",
       "      <td>TMIN</td>\n",
       "      <td>2018-10-30</td>\n",
       "      <td>2.2</td>\n",
       "    </tr>\n",
       "    <tr>\n",
       "      <th>89</th>\n",
       "      <td>TOBS</td>\n",
       "      <td>2018-10-30</td>\n",
       "      <td>5.0</td>\n",
       "    </tr>\n",
       "    <tr>\n",
       "      <th>90</th>\n",
       "      <td>TMAX</td>\n",
       "      <td>2018-10-31</td>\n",
       "      <td>12.2</td>\n",
       "    </tr>\n",
       "    <tr>\n",
       "      <th>91</th>\n",
       "      <td>TMIN</td>\n",
       "      <td>2018-10-31</td>\n",
       "      <td>0.0</td>\n",
       "    </tr>\n",
       "    <tr>\n",
       "      <th>92</th>\n",
       "      <td>TOBS</td>\n",
       "      <td>2018-10-31</td>\n",
       "      <td>0.0</td>\n",
       "    </tr>\n",
       "  </tbody>\n",
       "</table>\n",
       "<p>93 rows × 3 columns</p>\n",
       "</div>"
      ],
      "text/plain": [
       "   datatype       date  value\n",
       "0      TMAX 2018-10-01   21.1\n",
       "1      TMIN 2018-10-01    8.9\n",
       "2      TOBS 2018-10-01   13.9\n",
       "3      TMAX 2018-10-02   23.9\n",
       "4      TMIN 2018-10-02   13.9\n",
       "..      ...        ...    ...\n",
       "88     TMIN 2018-10-30    2.2\n",
       "89     TOBS 2018-10-30    5.0\n",
       "90     TMAX 2018-10-31   12.2\n",
       "91     TMIN 2018-10-31    0.0\n",
       "92     TOBS 2018-10-31    0.0\n",
       "\n",
       "[93 rows x 3 columns]"
      ]
     },
     "execution_count": 20,
     "metadata": {},
     "output_type": "execute_result"
    }
   ],
   "source": [
    "pd.read_csv('long_data.csv',usecols=['date', 'datatype', 'value'], parse_dates=['date'])"
   ]
  },
  {
   "cell_type": "markdown",
   "id": "dd98a629",
   "metadata": {},
   "source": [
    "###  pd.read_csv('long_data.csv',usecols=['date', 'datatype', 'value'], parse_dates=['date'] )\n",
    "Esta instruccion leera el archivo csv y formara un subconjunto de arreglos definidos por usecol. \n",
    "\n",
    "Para nuestro caso formara el arreglo con la columnas date,datatype,value que son 3 columnas\n",
    "\n",
    "El arreglo date: estara definido con  un formato tiempo :fecha ,hora en este de caso de 64 bits."
   ]
  },
  {
   "cell_type": "code",
   "execution_count": 21,
   "id": "ea89c60d",
   "metadata": {},
   "outputs": [],
   "source": [
    "# Ejecute el siguiente comando.\n",
    "df2= pd.read_csv(\n",
    "    'long_data.csv', \n",
    "    usecols=['date', 'datatype', 'value'], \n",
    "    parse_dates=['date']\n",
    " )[['date', 'datatype', 'value']]\n",
    "df2\n",
    "dfNew=df2.copy()\n",
    "# ¿ Qué diferencia hay con los otros comandos?"
   ]
  },
  {
   "cell_type": "markdown",
   "id": "3c82d77c",
   "metadata": {},
   "source": [
    "###  Diferencia\n",
    "Similar al caso anterior , formara un subconjunto de 3 arreglos 'date', 'datatype', 'value'\n",
    "\n",
    "La diferencia basa en que estara reordenada las columnas en orden de izquierda a derecha como :  'date', 'datatype', 'value'"
   ]
  },
  {
   "cell_type": "markdown",
   "id": "02a515b6",
   "metadata": {},
   "source": [
    "### ¿ Qué diferencia hay entre las df1 y df2?"
   ]
  },
  {
   "cell_type": "markdown",
   "id": "d5b0a4be",
   "metadata": {},
   "source": [
    "## Ejecute su código aquí y/o escriba su respuesta.\n",
    "df2: Es el archivo global con todos los datos , es decir no esta subordenado o redefinido en suboconjuntos de arreglos de de datos .Por lo que no TMAX,TMIN,TOBS no estan discriminados en columnas  "
   ]
  },
  {
   "cell_type": "markdown",
   "id": "7c747682",
   "metadata": {},
   "source": [
    "### ¿ Es posible obtener df1 del dataframe df2?\n",
    "\n",
    "### Con el siguiente código responderemos esta pregunta."
   ]
  },
  {
   "cell_type": "code",
   "execution_count": 22,
   "id": "b086ac3d",
   "metadata": {},
   "outputs": [],
   "source": [
    "#TMIN_New=df2[df2['datatype']=='TMIN'][['date','value']]\n",
    "#TMAX_New=df2[df2['datatype']=='TMAX'][['date','value']]\n"
   ]
  },
  {
   "cell_type": "code",
   "execution_count": 23,
   "id": "f1188121",
   "metadata": {},
   "outputs": [
    {
     "data": {
      "text/html": [
       "<div>\n",
       "<style scoped>\n",
       "    .dataframe tbody tr th:only-of-type {\n",
       "        vertical-align: middle;\n",
       "    }\n",
       "\n",
       "    .dataframe tbody tr th {\n",
       "        vertical-align: top;\n",
       "    }\n",
       "\n",
       "    .dataframe thead th {\n",
       "        text-align: right;\n",
       "    }\n",
       "</style>\n",
       "<table border=\"1\" class=\"dataframe\">\n",
       "  <thead>\n",
       "    <tr style=\"text-align: right;\">\n",
       "      <th></th>\n",
       "      <th>datatype</th>\n",
       "      <th>TMAX</th>\n",
       "      <th>TMIN</th>\n",
       "      <th>TOBS</th>\n",
       "    </tr>\n",
       "    <tr>\n",
       "      <th></th>\n",
       "      <th>date</th>\n",
       "      <th></th>\n",
       "      <th></th>\n",
       "      <th></th>\n",
       "    </tr>\n",
       "  </thead>\n",
       "  <tbody>\n",
       "    <tr>\n",
       "      <th rowspan=\"31\" valign=\"top\">value</th>\n",
       "      <th>2018-10-01</th>\n",
       "      <td>21.1</td>\n",
       "      <td>8.9</td>\n",
       "      <td>13.9</td>\n",
       "    </tr>\n",
       "    <tr>\n",
       "      <th>2018-10-02</th>\n",
       "      <td>23.9</td>\n",
       "      <td>13.9</td>\n",
       "      <td>17.2</td>\n",
       "    </tr>\n",
       "    <tr>\n",
       "      <th>2018-10-03</th>\n",
       "      <td>25.0</td>\n",
       "      <td>15.6</td>\n",
       "      <td>16.1</td>\n",
       "    </tr>\n",
       "    <tr>\n",
       "      <th>2018-10-04</th>\n",
       "      <td>22.8</td>\n",
       "      <td>11.7</td>\n",
       "      <td>11.7</td>\n",
       "    </tr>\n",
       "    <tr>\n",
       "      <th>2018-10-05</th>\n",
       "      <td>23.3</td>\n",
       "      <td>11.7</td>\n",
       "      <td>18.9</td>\n",
       "    </tr>\n",
       "    <tr>\n",
       "      <th>2018-10-06</th>\n",
       "      <td>20.0</td>\n",
       "      <td>13.3</td>\n",
       "      <td>16.1</td>\n",
       "    </tr>\n",
       "    <tr>\n",
       "      <th>2018-10-07</th>\n",
       "      <td>20.0</td>\n",
       "      <td>16.1</td>\n",
       "      <td>20.0</td>\n",
       "    </tr>\n",
       "    <tr>\n",
       "      <th>2018-10-08</th>\n",
       "      <td>26.7</td>\n",
       "      <td>17.8</td>\n",
       "      <td>17.8</td>\n",
       "    </tr>\n",
       "    <tr>\n",
       "      <th>2018-10-09</th>\n",
       "      <td>18.9</td>\n",
       "      <td>17.2</td>\n",
       "      <td>17.8</td>\n",
       "    </tr>\n",
       "    <tr>\n",
       "      <th>2018-10-10</th>\n",
       "      <td>24.4</td>\n",
       "      <td>17.2</td>\n",
       "      <td>18.3</td>\n",
       "    </tr>\n",
       "    <tr>\n",
       "      <th>2018-10-11</th>\n",
       "      <td>26.1</td>\n",
       "      <td>17.8</td>\n",
       "      <td>21.7</td>\n",
       "    </tr>\n",
       "    <tr>\n",
       "      <th>2018-10-12</th>\n",
       "      <td>22.8</td>\n",
       "      <td>14.4</td>\n",
       "      <td>15.6</td>\n",
       "    </tr>\n",
       "    <tr>\n",
       "      <th>2018-10-13</th>\n",
       "      <td>15.6</td>\n",
       "      <td>7.2</td>\n",
       "      <td>8.3</td>\n",
       "    </tr>\n",
       "    <tr>\n",
       "      <th>2018-10-14</th>\n",
       "      <td>13.3</td>\n",
       "      <td>5.6</td>\n",
       "      <td>6.7</td>\n",
       "    </tr>\n",
       "    <tr>\n",
       "      <th>2018-10-15</th>\n",
       "      <td>13.3</td>\n",
       "      <td>6.7</td>\n",
       "      <td>10.0</td>\n",
       "    </tr>\n",
       "    <tr>\n",
       "      <th>2018-10-16</th>\n",
       "      <td>18.9</td>\n",
       "      <td>7.8</td>\n",
       "      <td>7.8</td>\n",
       "    </tr>\n",
       "    <tr>\n",
       "      <th>2018-10-17</th>\n",
       "      <td>13.3</td>\n",
       "      <td>3.3</td>\n",
       "      <td>5.0</td>\n",
       "    </tr>\n",
       "    <tr>\n",
       "      <th>2018-10-18</th>\n",
       "      <td>16.1</td>\n",
       "      <td>4.4</td>\n",
       "      <td>5.0</td>\n",
       "    </tr>\n",
       "    <tr>\n",
       "      <th>2018-10-19</th>\n",
       "      <td>10.0</td>\n",
       "      <td>-1.1</td>\n",
       "      <td>0.0</td>\n",
       "    </tr>\n",
       "    <tr>\n",
       "      <th>2018-10-20</th>\n",
       "      <td>15.0</td>\n",
       "      <td>-0.6</td>\n",
       "      <td>10.6</td>\n",
       "    </tr>\n",
       "    <tr>\n",
       "      <th>2018-10-21</th>\n",
       "      <td>16.7</td>\n",
       "      <td>7.8</td>\n",
       "      <td>7.8</td>\n",
       "    </tr>\n",
       "    <tr>\n",
       "      <th>2018-10-22</th>\n",
       "      <td>7.8</td>\n",
       "      <td>-1.1</td>\n",
       "      <td>-1.1</td>\n",
       "    </tr>\n",
       "    <tr>\n",
       "      <th>2018-10-23</th>\n",
       "      <td>15.6</td>\n",
       "      <td>-1.1</td>\n",
       "      <td>10.0</td>\n",
       "    </tr>\n",
       "    <tr>\n",
       "      <th>2018-10-24</th>\n",
       "      <td>16.7</td>\n",
       "      <td>4.4</td>\n",
       "      <td>6.7</td>\n",
       "    </tr>\n",
       "    <tr>\n",
       "      <th>2018-10-25</th>\n",
       "      <td>11.7</td>\n",
       "      <td>2.8</td>\n",
       "      <td>2.8</td>\n",
       "    </tr>\n",
       "    <tr>\n",
       "      <th>2018-10-26</th>\n",
       "      <td>9.4</td>\n",
       "      <td>-0.6</td>\n",
       "      <td>-0.6</td>\n",
       "    </tr>\n",
       "    <tr>\n",
       "      <th>2018-10-27</th>\n",
       "      <td>8.9</td>\n",
       "      <td>-0.6</td>\n",
       "      <td>6.1</td>\n",
       "    </tr>\n",
       "    <tr>\n",
       "      <th>2018-10-28</th>\n",
       "      <td>8.3</td>\n",
       "      <td>5.0</td>\n",
       "      <td>7.2</td>\n",
       "    </tr>\n",
       "    <tr>\n",
       "      <th>2018-10-29</th>\n",
       "      <td>10.6</td>\n",
       "      <td>6.7</td>\n",
       "      <td>8.3</td>\n",
       "    </tr>\n",
       "    <tr>\n",
       "      <th>2018-10-30</th>\n",
       "      <td>13.3</td>\n",
       "      <td>2.2</td>\n",
       "      <td>5.0</td>\n",
       "    </tr>\n",
       "    <tr>\n",
       "      <th>2018-10-31</th>\n",
       "      <td>12.2</td>\n",
       "      <td>0.0</td>\n",
       "      <td>0.0</td>\n",
       "    </tr>\n",
       "  </tbody>\n",
       "</table>\n",
       "</div>"
      ],
      "text/plain": [
       "datatype          TMAX  TMIN  TOBS\n",
       "      date                        \n",
       "value 2018-10-01  21.1   8.9  13.9\n",
       "      2018-10-02  23.9  13.9  17.2\n",
       "      2018-10-03  25.0  15.6  16.1\n",
       "      2018-10-04  22.8  11.7  11.7\n",
       "      2018-10-05  23.3  11.7  18.9\n",
       "      2018-10-06  20.0  13.3  16.1\n",
       "      2018-10-07  20.0  16.1  20.0\n",
       "      2018-10-08  26.7  17.8  17.8\n",
       "      2018-10-09  18.9  17.2  17.8\n",
       "      2018-10-10  24.4  17.2  18.3\n",
       "      2018-10-11  26.1  17.8  21.7\n",
       "      2018-10-12  22.8  14.4  15.6\n",
       "      2018-10-13  15.6   7.2   8.3\n",
       "      2018-10-14  13.3   5.6   6.7\n",
       "      2018-10-15  13.3   6.7  10.0\n",
       "      2018-10-16  18.9   7.8   7.8\n",
       "      2018-10-17  13.3   3.3   5.0\n",
       "      2018-10-18  16.1   4.4   5.0\n",
       "      2018-10-19  10.0  -1.1   0.0\n",
       "      2018-10-20  15.0  -0.6  10.6\n",
       "      2018-10-21  16.7   7.8   7.8\n",
       "      2018-10-22   7.8  -1.1  -1.1\n",
       "      2018-10-23  15.6  -1.1  10.0\n",
       "      2018-10-24  16.7   4.4   6.7\n",
       "      2018-10-25  11.7   2.8   2.8\n",
       "      2018-10-26   9.4  -0.6  -0.6\n",
       "      2018-10-27   8.9  -0.6   6.1\n",
       "      2018-10-28   8.3   5.0   7.2\n",
       "      2018-10-29  10.6   6.7   8.3\n",
       "      2018-10-30  13.3   2.2   5.0\n",
       "      2018-10-31  12.2   0.0   0.0"
      ]
     },
     "execution_count": 23,
     "metadata": {},
     "output_type": "execute_result"
    }
   ],
   "source": [
    "# Efectua el ordenamiento con pivote de datatype ecogiendo TMAX,TMIN,TOBS\n",
    "#...).T es para efectuar la transpuesta \n",
    "dfNew.pivot(index='datatype', columns='date', values=['value']).T  \n"
   ]
  },
  {
   "cell_type": "markdown",
   "id": "62c50603",
   "metadata": {},
   "source": [
    "### ¿Qué contiene el campo datatype de df2? ¿Cómo se relaciona con los campos de df1?\n",
    "Contiene las tres variantes de elementos para subformar 3 arreglos"
   ]
  },
  {
   "cell_type": "markdown",
   "id": "dde4c8ff",
   "metadata": {},
   "source": [
    "### Ejecute los siguientes comandos."
   ]
  },
  {
   "cell_type": "code",
   "execution_count": 24,
   "id": "bf0a32c1",
   "metadata": {},
   "outputs": [
    {
     "data": {
      "text/plain": [
       "DatetimeIndex(['2018-10-01', '2018-10-02', '2018-10-03', '2018-10-04',\n",
       "               '2018-10-05', '2018-10-06', '2018-10-07', '2018-10-08',\n",
       "               '2018-10-09', '2018-10-10', '2018-10-11', '2018-10-12',\n",
       "               '2018-10-13', '2018-10-14', '2018-10-15', '2018-10-16',\n",
       "               '2018-10-17', '2018-10-18', '2018-10-19', '2018-10-20',\n",
       "               '2018-10-21', '2018-10-22', '2018-10-23', '2018-10-24',\n",
       "               '2018-10-25', '2018-10-26', '2018-10-27', '2018-10-28',\n",
       "               '2018-10-29', '2018-10-30', '2018-10-31'],\n",
       "              dtype='datetime64[ns]', freq='D')"
      ]
     },
     "execution_count": 24,
     "metadata": {},
     "output_type": "execute_result"
    }
   ],
   "source": [
    "pd.date_range(df2['date'].min(),df2['date'].max())"
   ]
  },
  {
   "cell_type": "code",
   "execution_count": 25,
   "id": "d1e9c6fa",
   "metadata": {},
   "outputs": [
    {
     "data": {
      "text/html": [
       "<div>\n",
       "<style scoped>\n",
       "    .dataframe tbody tr th:only-of-type {\n",
       "        vertical-align: middle;\n",
       "    }\n",
       "\n",
       "    .dataframe tbody tr th {\n",
       "        vertical-align: top;\n",
       "    }\n",
       "\n",
       "    .dataframe thead th {\n",
       "        text-align: right;\n",
       "    }\n",
       "</style>\n",
       "<table border=\"1\" class=\"dataframe\">\n",
       "  <thead>\n",
       "    <tr style=\"text-align: right;\">\n",
       "      <th></th>\n",
       "    </tr>\n",
       "  </thead>\n",
       "  <tbody>\n",
       "    <tr>\n",
       "      <th>2018-10-01</th>\n",
       "    </tr>\n",
       "    <tr>\n",
       "      <th>2018-10-02</th>\n",
       "    </tr>\n",
       "    <tr>\n",
       "      <th>2018-10-03</th>\n",
       "    </tr>\n",
       "    <tr>\n",
       "      <th>2018-10-04</th>\n",
       "    </tr>\n",
       "    <tr>\n",
       "      <th>2018-10-05</th>\n",
       "    </tr>\n",
       "    <tr>\n",
       "      <th>2018-10-06</th>\n",
       "    </tr>\n",
       "    <tr>\n",
       "      <th>2018-10-07</th>\n",
       "    </tr>\n",
       "    <tr>\n",
       "      <th>2018-10-08</th>\n",
       "    </tr>\n",
       "    <tr>\n",
       "      <th>2018-10-09</th>\n",
       "    </tr>\n",
       "    <tr>\n",
       "      <th>2018-10-10</th>\n",
       "    </tr>\n",
       "    <tr>\n",
       "      <th>2018-10-11</th>\n",
       "    </tr>\n",
       "    <tr>\n",
       "      <th>2018-10-12</th>\n",
       "    </tr>\n",
       "    <tr>\n",
       "      <th>2018-10-13</th>\n",
       "    </tr>\n",
       "    <tr>\n",
       "      <th>2018-10-14</th>\n",
       "    </tr>\n",
       "    <tr>\n",
       "      <th>2018-10-15</th>\n",
       "    </tr>\n",
       "    <tr>\n",
       "      <th>2018-10-16</th>\n",
       "    </tr>\n",
       "    <tr>\n",
       "      <th>2018-10-17</th>\n",
       "    </tr>\n",
       "    <tr>\n",
       "      <th>2018-10-18</th>\n",
       "    </tr>\n",
       "    <tr>\n",
       "      <th>2018-10-19</th>\n",
       "    </tr>\n",
       "    <tr>\n",
       "      <th>2018-10-20</th>\n",
       "    </tr>\n",
       "    <tr>\n",
       "      <th>2018-10-21</th>\n",
       "    </tr>\n",
       "    <tr>\n",
       "      <th>2018-10-22</th>\n",
       "    </tr>\n",
       "    <tr>\n",
       "      <th>2018-10-23</th>\n",
       "    </tr>\n",
       "    <tr>\n",
       "      <th>2018-10-24</th>\n",
       "    </tr>\n",
       "    <tr>\n",
       "      <th>2018-10-25</th>\n",
       "    </tr>\n",
       "    <tr>\n",
       "      <th>2018-10-26</th>\n",
       "    </tr>\n",
       "    <tr>\n",
       "      <th>2018-10-27</th>\n",
       "    </tr>\n",
       "    <tr>\n",
       "      <th>2018-10-28</th>\n",
       "    </tr>\n",
       "    <tr>\n",
       "      <th>2018-10-29</th>\n",
       "    </tr>\n",
       "    <tr>\n",
       "      <th>2018-10-30</th>\n",
       "    </tr>\n",
       "    <tr>\n",
       "      <th>2018-10-31</th>\n",
       "    </tr>\n",
       "  </tbody>\n",
       "</table>\n",
       "</div>"
      ],
      "text/plain": [
       "Empty DataFrame\n",
       "Columns: []\n",
       "Index: [2018-10-01 00:00:00, 2018-10-02 00:00:00, 2018-10-03 00:00:00, 2018-10-04 00:00:00, 2018-10-05 00:00:00, 2018-10-06 00:00:00, 2018-10-07 00:00:00, 2018-10-08 00:00:00, 2018-10-09 00:00:00, 2018-10-10 00:00:00, 2018-10-11 00:00:00, 2018-10-12 00:00:00, 2018-10-13 00:00:00, 2018-10-14 00:00:00, 2018-10-15 00:00:00, 2018-10-16 00:00:00, 2018-10-17 00:00:00, 2018-10-18 00:00:00, 2018-10-19 00:00:00, 2018-10-20 00:00:00, 2018-10-21 00:00:00, 2018-10-22 00:00:00, 2018-10-23 00:00:00, 2018-10-24 00:00:00, 2018-10-25 00:00:00, 2018-10-26 00:00:00, 2018-10-27 00:00:00, 2018-10-28 00:00:00, 2018-10-29 00:00:00, 2018-10-30 00:00:00, 2018-10-31 00:00:00]"
      ]
     },
     "execution_count": 25,
     "metadata": {},
     "output_type": "execute_result"
    }
   ],
   "source": [
    "fechas=pd.date_range(df2['date'].min(),df2['date'].max())\n",
    "\n",
    "df3=pd.DataFrame(index=fechas)\n",
    "df3"
   ]
  },
  {
   "cell_type": "markdown",
   "id": "04ca9d76",
   "metadata": {},
   "source": [
    "### ¿Qué contiene df3?"
   ]
  },
  {
   "cell_type": "code",
   "execution_count": 26,
   "id": "fe016fe9",
   "metadata": {},
   "outputs": [],
   "source": [
    "## Ejecute su código aquí y/o escriba su respuesta."
   ]
  },
  {
   "cell_type": "markdown",
   "id": "a7409a67",
   "metadata": {},
   "source": [
    "### df2['date'].min()\n",
    "Busca el dato mas minimo, en este caso la fecha mas antigua\n",
    "### df2['date'].max()\n",
    "Busca el dato mas alto, en este caso la fecha mas nueva\n",
    "### pd.date_range(df2['date'].min(),df2['date'].max())\n",
    "Reordena los datos del arreglo de fechas desde el mas antiguo al mas nuevo . \n",
    "\n",
    "Df3 , visualiza un arreglo reordenado de de fechas de la mas atigua a la mas nueva"
   ]
  },
  {
   "cell_type": "markdown",
   "id": "ae63531e",
   "metadata": {},
   "source": [
    "### Ejecute los siguientes comandos."
   ]
  },
  {
   "cell_type": "code",
   "execution_count": 27,
   "id": "386a5885",
   "metadata": {},
   "outputs": [
    {
     "data": {
      "text/plain": [
       "array(['TMAX', 'TMIN', 'TOBS'], dtype=object)"
      ]
     },
     "execution_count": 27,
     "metadata": {},
     "output_type": "execute_result"
    }
   ],
   "source": [
    "df2.datatype.unique()"
   ]
  },
  {
   "cell_type": "code",
   "execution_count": 28,
   "id": "ec10c8e4",
   "metadata": {},
   "outputs": [],
   "source": [
    "lista=list(df2.datatype.unique())"
   ]
  },
  {
   "cell_type": "code",
   "execution_count": 29,
   "id": "2b926774",
   "metadata": {},
   "outputs": [
    {
     "name": "stdout",
     "output_type": "stream",
     "text": [
      "['TMAX', 'TMIN', 'TOBS']\n"
     ]
    }
   ],
   "source": [
    "print(lista)"
   ]
  },
  {
   "cell_type": "markdown",
   "id": "12ceb6b5",
   "metadata": {},
   "source": [
    "### En programación, ¿qué es un 'for loop'?\n",
    "Los búcles For ('for loop') iteran sobre una secuencia o un arreglo de datos .\n",
    "\n",
    "Los bucles pueden iterar sobre una secuencia de números usando las funciones de \"range\" y \"xrange\". La diferencia entre range y range es que la función de rango devuelve una nueva lista con números que el rango especifica, donde xrange devuelve un iterador, el cual es muy eficiente. (Python 3 usa la función range, el cual actúa como xrange). Nota que la función xrange comienza desde el índice cero.\n"
   ]
  },
  {
   "cell_type": "markdown",
   "id": "0eb16d5b",
   "metadata": {},
   "source": [
    "### Ejecute y analice los siguientes 'for loops'."
   ]
  },
  {
   "cell_type": "code",
   "execution_count": 30,
   "id": "934fa10b",
   "metadata": {},
   "outputs": [
    {
     "name": "stdout",
     "output_type": "stream",
     "text": [
      "TMAX\n",
      "TMIN\n",
      "TOBS\n"
     ]
    }
   ],
   "source": [
    "for l in lista:\n",
    "    print(l)"
   ]
  },
  {
   "cell_type": "markdown",
   "id": "712f1b55",
   "metadata": {},
   "source": [
    "lista: Arrelo que contiene las etiquetas de TMAX,TMIN,TOBS\n",
    "### for l in lista: .....\n",
    "Efectua un bucle recorriendo el arreglo de lista desde lista(0)--->lista(len(lista))"
   ]
  },
  {
   "cell_type": "code",
   "execution_count": 31,
   "id": "9c9a801d",
   "metadata": {},
   "outputs": [
    {
     "data": {
      "text/html": [
       "<div>\n",
       "<style scoped>\n",
       "    .dataframe tbody tr th:only-of-type {\n",
       "        vertical-align: middle;\n",
       "    }\n",
       "\n",
       "    .dataframe tbody tr th {\n",
       "        vertical-align: top;\n",
       "    }\n",
       "\n",
       "    .dataframe thead th {\n",
       "        text-align: right;\n",
       "    }\n",
       "</style>\n",
       "<table border=\"1\" class=\"dataframe\">\n",
       "  <thead>\n",
       "    <tr style=\"text-align: right;\">\n",
       "      <th></th>\n",
       "      <th>date</th>\n",
       "      <th>datatype</th>\n",
       "      <th>value</th>\n",
       "    </tr>\n",
       "  </thead>\n",
       "  <tbody>\n",
       "    <tr>\n",
       "      <th>0</th>\n",
       "      <td>2018-10-01</td>\n",
       "      <td>TMAX</td>\n",
       "      <td>21.1</td>\n",
       "    </tr>\n",
       "    <tr>\n",
       "      <th>1</th>\n",
       "      <td>2018-10-01</td>\n",
       "      <td>TMIN</td>\n",
       "      <td>8.9</td>\n",
       "    </tr>\n",
       "    <tr>\n",
       "      <th>2</th>\n",
       "      <td>2018-10-01</td>\n",
       "      <td>TOBS</td>\n",
       "      <td>13.9</td>\n",
       "    </tr>\n",
       "    <tr>\n",
       "      <th>3</th>\n",
       "      <td>2018-10-02</td>\n",
       "      <td>TMAX</td>\n",
       "      <td>23.9</td>\n",
       "    </tr>\n",
       "    <tr>\n",
       "      <th>4</th>\n",
       "      <td>2018-10-02</td>\n",
       "      <td>TMIN</td>\n",
       "      <td>13.9</td>\n",
       "    </tr>\n",
       "  </tbody>\n",
       "</table>\n",
       "</div>"
      ],
      "text/plain": [
       "        date datatype  value\n",
       "0 2018-10-01     TMAX   21.1\n",
       "1 2018-10-01     TMIN    8.9\n",
       "2 2018-10-01     TOBS   13.9\n",
       "3 2018-10-02     TMAX   23.9\n",
       "4 2018-10-02     TMIN   13.9"
      ]
     },
     "execution_count": 31,
     "metadata": {},
     "output_type": "execute_result"
    }
   ],
   "source": [
    "df2.head()"
   ]
  },
  {
   "cell_type": "markdown",
   "id": "8fd0a0bb",
   "metadata": {},
   "source": [
    "Muestra los cinco primeros arreglos de df2"
   ]
  },
  {
   "cell_type": "code",
   "execution_count": 32,
   "id": "d97891c0",
   "metadata": {},
   "outputs": [
    {
     "name": "stdout",
     "output_type": "stream",
     "text": [
      "        date datatype  value\n",
      "0 2018-10-01     TMAX   21.1\n",
      "3 2018-10-02     TMAX   23.9\n",
      "6 2018-10-03     TMAX   25.0\n",
      "        date datatype  value\n",
      "1 2018-10-01     TMIN    8.9\n",
      "4 2018-10-02     TMIN   13.9\n",
      "7 2018-10-03     TMIN   15.6\n",
      "        date datatype  value\n",
      "2 2018-10-01     TOBS   13.9\n",
      "5 2018-10-02     TOBS   17.2\n",
      "8 2018-10-03     TOBS   16.1\n"
     ]
    }
   ],
   "source": [
    "for l in lista:\n",
    "    print(df2[df2['datatype']==l].head(3))"
   ]
  },
  {
   "cell_type": "markdown",
   "id": "f3d2330b",
   "metadata": {},
   "source": [
    "#### for l in lista: ......\n",
    "Genera un bucle recorriendo en lista con la variable l \n",
    "\n",
    "El cual la isntruccion seria imprimir de df2 , los elementos que componen lista"
   ]
  },
  {
   "cell_type": "code",
   "execution_count": 33,
   "id": "3b452fe0",
   "metadata": {},
   "outputs": [
    {
     "name": "stdout",
     "output_type": "stream",
     "text": [
      "            TMAX\n",
      "date            \n",
      "2018-10-01  21.1\n",
      "2018-10-02  23.9\n",
      "2018-10-03  25.0\n",
      "            TMIN\n",
      "date            \n",
      "2018-10-01   8.9\n",
      "2018-10-02  13.9\n",
      "2018-10-03  15.6\n",
      "            TOBS\n",
      "date            \n",
      "2018-10-01  13.9\n",
      "2018-10-02  17.2\n",
      "2018-10-03  16.1\n"
     ]
    }
   ],
   "source": [
    "for l in lista:\n",
    "    dfa1=df2[df2['datatype']==l]\n",
    "    dfa2=pd.DataFrame(data=dfa1['value'].to_numpy(),index=dfa1.date, columns=[l])\n",
    "    print(dfa2.head(3))"
   ]
  },
  {
   "cell_type": "markdown",
   "id": "5ff05704",
   "metadata": {},
   "source": [
    "#### for l in lista: ......\n",
    "Genera un bucle recorriendo en lista con la variable l \n",
    "\n",
    "Reasigna a daf1 con los valores que obtenga de df2 con los elementos de l\n",
    "\n",
    "Asigna a df2 , un arreglo de dataframe de dfa2 como vector (.to_numpy())  , el cual establece en columna para su asignacion completa ordenando por sublbloques de l(TTMAX,TMIN,\n",
    "TOBS)"
   ]
  },
  {
   "cell_type": "code",
   "execution_count": 34,
   "id": "bfd504f1",
   "metadata": {},
   "outputs": [
    {
     "name": "stdout",
     "output_type": "stream",
     "text": [
      "            TMAX\n",
      "date            \n",
      "2018-10-01  21.1\n",
      "2018-10-02  23.9\n",
      "            TMIN\n",
      "date            \n",
      "2018-10-01   8.9\n",
      "2018-10-02  13.9\n",
      "            TOBS\n",
      "date            \n",
      "2018-10-01  13.9\n",
      "2018-10-02  17.2\n"
     ]
    }
   ],
   "source": [
    "### Ejecute el comando.\n",
    "for l in lista:\n",
    "    dfa1=df2[df2['datatype']==l]\n",
    "    dfa2=pd.DataFrame(data=dfa1['value'].to_numpy(),index=dfa1.date, columns=[l])\n",
    "    df3=df3.join(dfa2)\n",
    "    df3.index.name='date'\n",
    "    print(dfa2.head(2))"
   ]
  },
  {
   "cell_type": "markdown",
   "id": "eda16a9f",
   "metadata": {},
   "source": [
    "Asigna a df2 , un arreglo de dataframe de dfa2 como vector (.to_numpy()) en funcion a value(elemento que filtrara) , el cual establece en columna para su asignacion completa ordenando por sublbloques de l(TTMAX,TMIN,\n",
    "TOBS)\n",
    "La secuencia de comandos muestra al final solo dos impresiones de fechas"
   ]
  },
  {
   "cell_type": "markdown",
   "id": "da83f2d7",
   "metadata": {},
   "source": [
    "### ¿ Qué contiene df3?\n",
    "### Ejecute los siguientes comandos."
   ]
  },
  {
   "cell_type": "code",
   "execution_count": 35,
   "id": "10812a6a",
   "metadata": {},
   "outputs": [
    {
     "data": {
      "text/html": [
       "<div>\n",
       "<style scoped>\n",
       "    .dataframe tbody tr th:only-of-type {\n",
       "        vertical-align: middle;\n",
       "    }\n",
       "\n",
       "    .dataframe tbody tr th {\n",
       "        vertical-align: top;\n",
       "    }\n",
       "\n",
       "    .dataframe thead th {\n",
       "        text-align: right;\n",
       "    }\n",
       "</style>\n",
       "<table border=\"1\" class=\"dataframe\">\n",
       "  <thead>\n",
       "    <tr style=\"text-align: right;\">\n",
       "      <th></th>\n",
       "      <th>TMAX</th>\n",
       "      <th>TMIN</th>\n",
       "      <th>TOBS</th>\n",
       "    </tr>\n",
       "    <tr>\n",
       "      <th>date</th>\n",
       "      <th></th>\n",
       "      <th></th>\n",
       "      <th></th>\n",
       "    </tr>\n",
       "  </thead>\n",
       "  <tbody>\n",
       "    <tr>\n",
       "      <th>2018-10-01</th>\n",
       "      <td>21.1</td>\n",
       "      <td>8.9</td>\n",
       "      <td>13.9</td>\n",
       "    </tr>\n",
       "    <tr>\n",
       "      <th>2018-10-02</th>\n",
       "      <td>23.9</td>\n",
       "      <td>13.9</td>\n",
       "      <td>17.2</td>\n",
       "    </tr>\n",
       "    <tr>\n",
       "      <th>2018-10-03</th>\n",
       "      <td>25.0</td>\n",
       "      <td>15.6</td>\n",
       "      <td>16.1</td>\n",
       "    </tr>\n",
       "    <tr>\n",
       "      <th>2018-10-04</th>\n",
       "      <td>22.8</td>\n",
       "      <td>11.7</td>\n",
       "      <td>11.7</td>\n",
       "    </tr>\n",
       "    <tr>\n",
       "      <th>2018-10-05</th>\n",
       "      <td>23.3</td>\n",
       "      <td>11.7</td>\n",
       "      <td>18.9</td>\n",
       "    </tr>\n",
       "  </tbody>\n",
       "</table>\n",
       "</div>"
      ],
      "text/plain": [
       "            TMAX  TMIN  TOBS\n",
       "date                        \n",
       "2018-10-01  21.1   8.9  13.9\n",
       "2018-10-02  23.9  13.9  17.2\n",
       "2018-10-03  25.0  15.6  16.1\n",
       "2018-10-04  22.8  11.7  11.7\n",
       "2018-10-05  23.3  11.7  18.9"
      ]
     },
     "execution_count": 35,
     "metadata": {},
     "output_type": "execute_result"
    }
   ],
   "source": [
    "df3.head()"
   ]
  },
  {
   "cell_type": "markdown",
   "id": "8eca79fc",
   "metadata": {},
   "source": [
    "en funcion a df2 (Dataframe que contiene todos los datos) reorganiza y genera un dataframe nuevo similiar a df1"
   ]
  },
  {
   "cell_type": "code",
   "execution_count": 36,
   "id": "832a188d",
   "metadata": {},
   "outputs": [
    {
     "data": {
      "text/plain": [
       "False"
      ]
     },
     "execution_count": 36,
     "metadata": {},
     "output_type": "execute_result"
    }
   ],
   "source": [
    "df3.equals(df1)"
   ]
  },
  {
   "cell_type": "code",
   "execution_count": 37,
   "id": "ab261aa8",
   "metadata": {},
   "outputs": [
    {
     "data": {
      "text/html": [
       "<div>\n",
       "<style scoped>\n",
       "    .dataframe tbody tr th:only-of-type {\n",
       "        vertical-align: middle;\n",
       "    }\n",
       "\n",
       "    .dataframe tbody tr th {\n",
       "        vertical-align: top;\n",
       "    }\n",
       "\n",
       "    .dataframe thead th {\n",
       "        text-align: right;\n",
       "    }\n",
       "</style>\n",
       "<table border=\"1\" class=\"dataframe\">\n",
       "  <thead>\n",
       "    <tr style=\"text-align: right;\">\n",
       "      <th></th>\n",
       "      <th>date</th>\n",
       "      <th>TMAX</th>\n",
       "      <th>TMIN</th>\n",
       "      <th>TOBS</th>\n",
       "    </tr>\n",
       "  </thead>\n",
       "  <tbody>\n",
       "    <tr>\n",
       "      <th>0</th>\n",
       "      <td>2018-10-01</td>\n",
       "      <td>21.1</td>\n",
       "      <td>8.9</td>\n",
       "      <td>13.9</td>\n",
       "    </tr>\n",
       "    <tr>\n",
       "      <th>1</th>\n",
       "      <td>2018-10-02</td>\n",
       "      <td>23.9</td>\n",
       "      <td>13.9</td>\n",
       "      <td>17.2</td>\n",
       "    </tr>\n",
       "    <tr>\n",
       "      <th>2</th>\n",
       "      <td>2018-10-03</td>\n",
       "      <td>25.0</td>\n",
       "      <td>15.6</td>\n",
       "      <td>16.1</td>\n",
       "    </tr>\n",
       "    <tr>\n",
       "      <th>3</th>\n",
       "      <td>2018-10-04</td>\n",
       "      <td>22.8</td>\n",
       "      <td>11.7</td>\n",
       "      <td>11.7</td>\n",
       "    </tr>\n",
       "    <tr>\n",
       "      <th>4</th>\n",
       "      <td>2018-10-05</td>\n",
       "      <td>23.3</td>\n",
       "      <td>11.7</td>\n",
       "      <td>18.9</td>\n",
       "    </tr>\n",
       "  </tbody>\n",
       "</table>\n",
       "</div>"
      ],
      "text/plain": [
       "        date  TMAX  TMIN  TOBS\n",
       "0 2018-10-01  21.1   8.9  13.9\n",
       "1 2018-10-02  23.9  13.9  17.2\n",
       "2 2018-10-03  25.0  15.6  16.1\n",
       "3 2018-10-04  22.8  11.7  11.7\n",
       "4 2018-10-05  23.3  11.7  18.9"
      ]
     },
     "execution_count": 37,
     "metadata": {},
     "output_type": "execute_result"
    }
   ],
   "source": [
    "df1.head()"
   ]
  },
  {
   "cell_type": "code",
   "execution_count": 38,
   "id": "732fb875",
   "metadata": {},
   "outputs": [
    {
     "data": {
      "text/html": [
       "<div>\n",
       "<style scoped>\n",
       "    .dataframe tbody tr th:only-of-type {\n",
       "        vertical-align: middle;\n",
       "    }\n",
       "\n",
       "    .dataframe tbody tr th {\n",
       "        vertical-align: top;\n",
       "    }\n",
       "\n",
       "    .dataframe thead th {\n",
       "        text-align: right;\n",
       "    }\n",
       "</style>\n",
       "<table border=\"1\" class=\"dataframe\">\n",
       "  <thead>\n",
       "    <tr style=\"text-align: right;\">\n",
       "      <th></th>\n",
       "      <th>TMAX</th>\n",
       "      <th>TMIN</th>\n",
       "      <th>TOBS</th>\n",
       "    </tr>\n",
       "    <tr>\n",
       "      <th>date</th>\n",
       "      <th></th>\n",
       "      <th></th>\n",
       "      <th></th>\n",
       "    </tr>\n",
       "  </thead>\n",
       "  <tbody>\n",
       "    <tr>\n",
       "      <th>2018-10-01</th>\n",
       "      <td>21.1</td>\n",
       "      <td>8.9</td>\n",
       "      <td>13.9</td>\n",
       "    </tr>\n",
       "    <tr>\n",
       "      <th>2018-10-02</th>\n",
       "      <td>23.9</td>\n",
       "      <td>13.9</td>\n",
       "      <td>17.2</td>\n",
       "    </tr>\n",
       "    <tr>\n",
       "      <th>2018-10-03</th>\n",
       "      <td>25.0</td>\n",
       "      <td>15.6</td>\n",
       "      <td>16.1</td>\n",
       "    </tr>\n",
       "    <tr>\n",
       "      <th>2018-10-04</th>\n",
       "      <td>22.8</td>\n",
       "      <td>11.7</td>\n",
       "      <td>11.7</td>\n",
       "    </tr>\n",
       "    <tr>\n",
       "      <th>2018-10-05</th>\n",
       "      <td>23.3</td>\n",
       "      <td>11.7</td>\n",
       "      <td>18.9</td>\n",
       "    </tr>\n",
       "  </tbody>\n",
       "</table>\n",
       "</div>"
      ],
      "text/plain": [
       "            TMAX  TMIN  TOBS\n",
       "date                        \n",
       "2018-10-01  21.1   8.9  13.9\n",
       "2018-10-02  23.9  13.9  17.2\n",
       "2018-10-03  25.0  15.6  16.1\n",
       "2018-10-04  22.8  11.7  11.7\n",
       "2018-10-05  23.3  11.7  18.9"
      ]
     },
     "execution_count": 38,
     "metadata": {},
     "output_type": "execute_result"
    }
   ],
   "source": [
    "df3.head()"
   ]
  },
  {
   "cell_type": "code",
   "execution_count": 39,
   "id": "256c7e03",
   "metadata": {},
   "outputs": [
    {
     "data": {
      "text/html": [
       "<div>\n",
       "<style scoped>\n",
       "    .dataframe tbody tr th:only-of-type {\n",
       "        vertical-align: middle;\n",
       "    }\n",
       "\n",
       "    .dataframe tbody tr th {\n",
       "        vertical-align: top;\n",
       "    }\n",
       "\n",
       "    .dataframe thead th {\n",
       "        text-align: right;\n",
       "    }\n",
       "</style>\n",
       "<table border=\"1\" class=\"dataframe\">\n",
       "  <thead>\n",
       "    <tr style=\"text-align: right;\">\n",
       "      <th></th>\n",
       "      <th>date</th>\n",
       "      <th>TMAX</th>\n",
       "      <th>TMIN</th>\n",
       "      <th>TOBS</th>\n",
       "    </tr>\n",
       "  </thead>\n",
       "  <tbody>\n",
       "    <tr>\n",
       "      <th>0</th>\n",
       "      <td>2018-10-01</td>\n",
       "      <td>21.1</td>\n",
       "      <td>8.9</td>\n",
       "      <td>13.9</td>\n",
       "    </tr>\n",
       "    <tr>\n",
       "      <th>1</th>\n",
       "      <td>2018-10-02</td>\n",
       "      <td>23.9</td>\n",
       "      <td>13.9</td>\n",
       "      <td>17.2</td>\n",
       "    </tr>\n",
       "    <tr>\n",
       "      <th>2</th>\n",
       "      <td>2018-10-03</td>\n",
       "      <td>25.0</td>\n",
       "      <td>15.6</td>\n",
       "      <td>16.1</td>\n",
       "    </tr>\n",
       "    <tr>\n",
       "      <th>3</th>\n",
       "      <td>2018-10-04</td>\n",
       "      <td>22.8</td>\n",
       "      <td>11.7</td>\n",
       "      <td>11.7</td>\n",
       "    </tr>\n",
       "    <tr>\n",
       "      <th>4</th>\n",
       "      <td>2018-10-05</td>\n",
       "      <td>23.3</td>\n",
       "      <td>11.7</td>\n",
       "      <td>18.9</td>\n",
       "    </tr>\n",
       "  </tbody>\n",
       "</table>\n",
       "</div>"
      ],
      "text/plain": [
       "        date  TMAX  TMIN  TOBS\n",
       "0 2018-10-01  21.1   8.9  13.9\n",
       "1 2018-10-02  23.9  13.9  17.2\n",
       "2 2018-10-03  25.0  15.6  16.1\n",
       "3 2018-10-04  22.8  11.7  11.7\n",
       "4 2018-10-05  23.3  11.7  18.9"
      ]
     },
     "execution_count": 39,
     "metadata": {},
     "output_type": "execute_result"
    }
   ],
   "source": [
    "df3.reset_index().head()"
   ]
  },
  {
   "cell_type": "code",
   "execution_count": 40,
   "id": "9ba81577",
   "metadata": {},
   "outputs": [
    {
     "data": {
      "text/plain": [
       "True"
      ]
     },
     "execution_count": 40,
     "metadata": {},
     "output_type": "execute_result"
    }
   ],
   "source": [
    "df3.reset_index().equals(df1)"
   ]
  },
  {
   "cell_type": "markdown",
   "id": "ae663594",
   "metadata": {},
   "source": [
    "### ¿Es posible obtener df1 de df2?"
   ]
  },
  {
   "cell_type": "code",
   "execution_count": 41,
   "id": "1fa2df46",
   "metadata": {},
   "outputs": [],
   "source": [
    "## Ejecute su código aquí y/o escriba su respuesta.\n",
    "\n",
    "### El anterior proceso."
   ]
  },
  {
   "cell_type": "markdown",
   "id": "093c6b97",
   "metadata": {},
   "source": [
    "si hay varios metodos , uno como se uso en incio y otro como se hace en algoritmo loop de df3"
   ]
  },
  {
   "cell_type": "code",
   "execution_count": null,
   "id": "4bb25f83",
   "metadata": {},
   "outputs": [],
   "source": []
  }
 ],
 "metadata": {
  "kernelspec": {
   "display_name": "Python 3 (ipykernel)",
   "language": "python",
   "name": "python3"
  },
  "language_info": {
   "codemirror_mode": {
    "name": "ipython",
    "version": 3
   },
   "file_extension": ".py",
   "mimetype": "text/x-python",
   "name": "python",
   "nbconvert_exporter": "python",
   "pygments_lexer": "ipython3",
   "version": "3.9.7"
  }
 },
 "nbformat": 4,
 "nbformat_minor": 5
}
