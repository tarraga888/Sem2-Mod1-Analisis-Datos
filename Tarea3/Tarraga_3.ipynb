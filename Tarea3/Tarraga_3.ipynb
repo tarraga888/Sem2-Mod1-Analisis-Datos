{
 "cells": [
  {
   "cell_type": "markdown",
   "id": "f4b34990",
   "metadata": {},
   "source": [
    "$\\def\\tQ{\\tilde{Q}}\n",
    "\\def\\D{\\mathcal{D}}\n",
    "\\def\\E{\\mathcal{E}}\n",
    "\\def\\F{\\mathcal{F}}\n",
    "\\def\\H{\\mathcal{H}}\n",
    "\\def\\cP{\\mathcal{P}}\n",
    "\\def\\cC{\\mathcal{C}}\n",
    "\\def\\W{\\mathcal{W}}\n",
    "\\def\\AA{\\mathbb{A}}\n",
    "\\def\\C{\\mathbb{C}}\n",
    "\\def\\N{\\mathbb{N}}\n",
    "\\def\\M{\\mathcal{M}}\n",
    "\\def\\L{\\mathcal{L}}\n",
    "\\def\\Z{\\mathbb{Z}}\n",
    "\\def\\Q{\\mathcal{Q}}\n",
    "\\def\\R{\\mathbb{R}} \n",
    "\\def\\S{\\mathcal{S}}\n",
    "\\def\\p{\\partial}\n",
    "\\def\\T{\\mathcal{T}}\n",
    "\\def\\Tq{\\widetilde{T}}\n",
    "\\def\\I{\\mathcal{I}}\n",
    "\\def\\k{\\mathcal{k}}\n",
    "\\newcommand{\\A}{\\mathcal A}\n",
    "\\def\\o{\\omega}\n",
    "\\def\\a{\\alpha}\n",
    "\\def\\b{\\beta}\n",
    "\\def\\g{\\gamma}\n",
    "\\def\\d{\\delta}\n",
    "\\def\\G{\\Gamma}\n",
    "\\def\\l{\\lambda}\n",
    "\\def\\t{\\theta}\n",
    "\\def\\f{\\frac}\n",
    "\\newcommand{\\Sh}{\\mathcal S\\! \\mathcal H}\n",
    "\\newcommand{\\cR}{\\mathcal R}\n",
    "\\newcommand{\\cB}{\\mathcal B}\n",
    "\\newcommand{\\cQ}{\\mathcal Q}\n",
    "\\newcommand{\\sing}{\\text{sing }\\!}\n",
    "\\newcommand{\\card}{\\text{card }\\!}\n",
    "\\renewcommand{\\span}{\\text{span }\\!}\n",
    "\\def\\sinc{\\mbox{\\rm sinc}}\n",
    "\\def\\db{\\textcolor{blue}}$\n",
    "\n",
    "\n",
    "\n",
    "$\\newcommand{\\ip}[2]{\\langle#1,#2\\rangle}$\n"
   ]
  },
  {
   "cell_type": "markdown",
   "id": "40993860",
   "metadata": {},
   "source": [
    "# Tarea 3\n"
   ]
  },
  {
   "cell_type": "code",
   "execution_count": 2,
   "id": "3084f96b",
   "metadata": {},
   "outputs": [
    {
     "data": {
      "application/javascript": [
       "if (window.IPython && IPython.notebook.kernel) IPython.notebook.kernel.execute('jovian.utils.jupyter.get_notebook_name_saved = lambda: \"' + IPython.notebook.notebook_name + '\"')"
      ],
      "text/plain": [
       "<IPython.core.display.Javascript object>"
      ]
     },
     "metadata": {},
     "output_type": "display_data"
    }
   ],
   "source": [
    "# Imports\n",
    "import torch\n",
    "import torchvision\n",
    "import torch.nn as nn\n",
    "import matplotlib.pyplot as plt\n",
    "import torch.nn.functional as F\n",
    "import torchvision.transforms as transforms\n",
    "from torchvision.datasets import FashionMNIST\n",
    "from torch.utils.data import random_split\n",
    "from torch.utils.data import DataLoader"
   ]
  },
  {
   "cell_type": "code",
   "execution_count": 4,
   "id": "ab8e4c56",
   "metadata": {},
   "outputs": [],
   "source": [
    "# Bajamos data set de entran\n",
    "# Data set de entrenamiento.\n",
    "\n",
    "### pruebe root= 'D:\\PyTorch\\data' si trabaja en windows\n",
    "\n",
    "train_dataset  = FashionMNIST(root='./data', train=True, transform=transforms.ToTensor(), download=True)\n",
    "\n",
    "# Data set de validación o prueba\n",
    "validation_dataset = FashionMNIST(root='./data', train=False, transform=transforms.ToTensor(), download=True)"
   ]
  },
  {
   "cell_type": "markdown",
   "id": "6842c384",
   "metadata": {},
   "source": [
    "## Desecriba qué contienen las datasets."
   ]
  },
  {
   "cell_type": "code",
   "execution_count": 5,
   "id": "75e034fb",
   "metadata": {},
   "outputs": [
    {
     "data": {
      "text/plain": [
       "Dataset FashionMNIST\n",
       "    Number of datapoints: 60000\n",
       "    Root location: ./data\n",
       "    Split: Train\n",
       "    StandardTransform\n",
       "Transform: ToTensor()"
      ]
     },
     "execution_count": 5,
     "metadata": {},
     "output_type": "execute_result"
    }
   ],
   "source": [
    "train_dataset"
   ]
  },
  {
   "cell_type": "code",
   "execution_count": 6,
   "id": "7e2bb530",
   "metadata": {},
   "outputs": [
    {
     "data": {
      "text/plain": [
       "Dataset FashionMNIST\n",
       "    Number of datapoints: 10000\n",
       "    Root location: ./data\n",
       "    Split: Test\n",
       "    StandardTransform\n",
       "Transform: ToTensor()"
      ]
     },
     "execution_count": 6,
     "metadata": {},
     "output_type": "execute_result"
    }
   ],
   "source": [
    "validation_dataset"
   ]
  },
  {
   "cell_type": "markdown",
   "id": "f2561a8a",
   "metadata": {},
   "source": [
    "### Cargue la función de show_data."
   ]
  },
  {
   "cell_type": "code",
   "execution_count": 7,
   "id": "c00913b0",
   "metadata": {},
   "outputs": [],
   "source": [
    "# Plot dibuja los datos\n",
    "### 1,28,28\n",
    "def show_data(ejemplo_de_dato):\n",
    "    \n",
    "    plt.imshow(ejemplo_de_dato[0].numpy().reshape(28, 28), cmap='gray')\n",
    "    \n",
    "    plt.title('y = ' + str(ejemplo_de_dato[1])) "
   ]
  },
  {
   "cell_type": "code",
   "execution_count": 8,
   "id": "964422b8",
   "metadata": {},
   "outputs": [],
   "source": [
    "#### Ejecute el siguiente comando para unos 10 índicies que escoja al azar."
   ]
  },
  {
   "cell_type": "code",
   "execution_count": 13,
   "id": "aaf5b2cc",
   "metadata": {},
   "outputs": [
    {
     "name": "stdout",
     "output_type": "stream",
     "text": [
      "imagen:  None\n"
     ]
    },
    {
     "data": {
      "image/png": "[encoded data removed]",
      "text/plain": [
       "<Figure size 432x288 with 1 Axes>"
      ]
     },
     "metadata": {
      "needs_background": "light"
     },
     "output_type": "display_data"
    }
   ],
   "source": [
    "# graficar imagen\n",
    "index=45234\n",
    "\n",
    "print(\"imagen: \", show_data(train_dataset[index]))"
   ]
  },
  {
   "cell_type": "markdown",
   "id": "e02c3951",
   "metadata": {},
   "source": [
    "## ¿Qué muestran los gráficos?"
   ]
  },
  {
   "cell_type": "code",
   "execution_count": 23,
   "id": "58047697",
   "metadata": {},
   "outputs": [],
   "source": []
  },
  {
   "cell_type": "markdown",
   "id": "b846cefd",
   "metadata": {},
   "source": [
    "### Defina la siguiente lista y relacionela con los números de las clases de los datos."
   ]
  },
  {
   "cell_type": "code",
   "execution_count": 31,
   "id": "57064d69",
   "metadata": {},
   "outputs": [],
   "source": [
    "clases = ['T-shirt/top','Trouser', 'Pullover', 'Dress', 'Coat', \n",
    "          'Sandal', 'Shirt', 'Sneaker', 'Bag', 'Ankle boot' ]"
   ]
  },
  {
   "cell_type": "code",
   "execution_count": 42,
   "id": "a19fcd6f",
   "metadata": {},
   "outputs": [
    {
     "data": {
      "text/plain": [
       "1"
      ]
     },
     "execution_count": 42,
     "metadata": {},
     "output_type": "execute_result"
    }
   ],
   "source": [
    "### Ejemplo\n",
    "train_dataset[46546][1]"
   ]
  },
  {
   "cell_type": "markdown",
   "id": "b53b1ece",
   "metadata": {},
   "source": [
    "### Construya un modelo de regresión softmax, entrenelo con los datos de train_data,\n",
    "\n",
    "### realice la evaluación con los datos validation_dataset y calcule la exactitud (accuracy).\n",
    "\n",
    "### Realice el entrenamiento para 10, 15 y 20 epoch. \n",
    "\n",
    "### ¿Cómo se comporta la exactitud y el error cuando se incrementa los epochs?"
   ]
  },
  {
   "cell_type": "code",
   "execution_count": null,
   "id": "117cc32c",
   "metadata": {},
   "outputs": [],
   "source": []
  }
 ],
 "metadata": {
  "kernelspec": {
   "display_name": "Python 3 (ipykernel)",
   "language": "python",
   "name": "python3"
  },
  "language_info": {
   "codemirror_mode": {
    "name": "ipython",
    "version": 3
   },
   "file_extension": ".py",
   "mimetype": "text/x-python",
   "name": "python",
   "nbconvert_exporter": "python",
   "pygments_lexer": "ipython3",
   "version": "3.9.7"
  }
 },
 "nbformat": 4,
 "nbformat_minor": 5
}
