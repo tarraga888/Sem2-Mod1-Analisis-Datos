{
 "cells": [
  {
   "cell_type": "markdown",
   "id": "315dbca4",
   "metadata": {
    "id": "315dbca4"
   },
   "source": [
    "$\\def\\tQ{\\tilde{Q}}\n",
    "\\def\\D{\\mathcal{D}}\n",
    "\\def\\E{\\mathcal{E}}\n",
    "\\def\\F{\\mathcal{F}}\n",
    "\\def\\H{\\mathcal{H}}\n",
    "\\def\\cP{\\mathcal{P}}\n",
    "\\def\\cC{\\mathcal{C}}\n",
    "\\def\\W{\\mathcal{W}}\n",
    "\\def\\AA{\\mathbb{A}}\n",
    "\\def\\C{\\mathbb{C}}\n",
    "\\def\\N{\\mathbb{N}}\n",
    "\\def\\M{\\mathcal{M}}\n",
    "\\def\\L{\\mathcal{L}}\n",
    "\\def\\Z{\\mathbb{Z}}\n",
    "\\def\\Q{\\mathcal{Q}}\n",
    "\\def\\R{\\mathbb{R}}\n",
    "\\def\\S{\\mathcal{S}}\n",
    "\\def\\p{\\partial}\n",
    "\\def\\T{\\mathcal{T}}\n",
    "\\def\\Tq{\\widetilde{T}}\n",
    "\\def\\I{\\mathcal{I}}\n",
    "\\def\\k{\\mathcal{k}}\n",
    "\\newcommand{\\A}{\\mathcal A}\n",
    "\\def\\o{\\omega}\n",
    "\\def\\a{\\alpha}\n",
    "\\def\\b{\\beta}\n",
    "\\def\\g{\\gamma}\n",
    "\\def\\d{\\delta}\n",
    "\\def\\G{\\Gamma}\n",
    "\\def\\l{\\lambda}\n",
    "\\def\\t{\\theta}\n",
    "\\def\\f{\\frac}\n",
    "\\newcommand{\\Sh}{\\mathcal S\\! \\mathcal H}\n",
    "\\newcommand{\\cR}{\\mathcal R}\n",
    "\\newcommand{\\cB}{\\mathcal B}\n",
    "\\newcommand{\\cQ}{\\mathcal Q}\n",
    "\\newcommand{\\sing}{\\text{sing }\\!}\n",
    "\\newcommand{\\card}{\\text{card }\\!}\n",
    "\\renewcommand{\\span}{\\text{span }\\!}\n",
    "\\def\\sinc{\\mbox{\\rm sinc}}\n",
    "\\def\\db{\\textcolor{blue}}$\n",
    "\n",
    "\n",
    "\n",
    "$\\newcommand{\\ip}[2]{\\langle#1,#2\\rangle}$\n"
   ]
  },
  {
   "cell_type": "markdown",
   "id": "c562e29a",
   "metadata": {
    "id": "c562e29a"
   },
   "source": [
    "# Tarea 2\n",
    "## Nombre: Edgar Daniel Tarraga Torrez.\n",
    "\n"
   ]
  },
  {
   "cell_type": "code",
   "execution_count": 1,
   "id": "c39513a1",
   "metadata": {
    "executionInfo": {
     "elapsed": 5206,
     "status": "ok",
     "timestamp": 1696033937064,
     "user": {
      "displayName": "José Pedro Rodríguez Ayllón.",
      "userId": "00563231509491653865"
     },
     "user_tz": 240
    },
    "id": "c39513a1"
   },
   "outputs": [],
   "source": [
    "import torch\n",
    "import torch.nn as nn\n",
    "import numpy as np\n",
    "from sklearn import datasets\n",
    "from sklearn.preprocessing import StandardScaler\n",
    "from sklearn.model_selection import train_test_split\n",
    "import matplotlib.pyplot as plt"
   ]
  },
  {
   "cell_type": "code",
   "execution_count": 2,
   "id": "bb7596a5",
   "metadata": {
    "executionInfo": {
     "elapsed": 72,
     "status": "ok",
     "timestamp": 1696033937068,
     "user": {
      "displayName": "José Pedro Rodríguez Ayllón.",
      "userId": "00563231509491653865"
     },
     "user_tz": 240
    },
    "id": "bb7596a5",
    "scrolled": false
   },
   "outputs": [],
   "source": [
    "# Preparación de datos\n",
    "bc = datasets.load_breast_cancer()\n",
    "X, y = bc.data, bc.target"
   ]
  },
  {
   "cell_type": "code",
   "execution_count": 3,
   "id": "gouebfyJoNuv",
   "metadata": {
    "colab": {
     "base_uri": "https://localhost:8080/"
    },
    "executionInfo": {
     "elapsed": 65,
     "status": "ok",
     "timestamp": 1696033937069,
     "user": {
      "displayName": "José Pedro Rodríguez Ayllón.",
      "userId": "00563231509491653865"
     },
     "user_tz": 240
    },
    "id": "gouebfyJoNuv",
    "outputId": "4c90fe9e-979c-46e9-e296-6326cb116c4f"
   },
   "outputs": [
    {
     "data": {
      "text/plain": [
       "array([0, 0, 0, 0, 0, 0, 0, 0, 0, 0, 0, 0, 0, 0, 0, 0, 0, 0, 0, 1, 1, 1,\n",
       "       0, 0, 0, 0, 0, 0, 0, 0, 0, 0, 0, 0, 0, 0, 0, 1, 0, 0, 0, 0, 0, 0,\n",
       "       0, 0, 1, 0, 1, 1, 1, 1, 1, 0, 0, 1, 0, 0, 1, 1, 1, 1, 0, 1, 0, 0,\n",
       "       1, 1, 1, 1, 0, 1, 0, 0, 1, 0, 1, 0, 0, 1, 1, 1, 0, 0, 1, 0, 0, 0,\n",
       "       1, 1, 1, 0, 1, 1, 0, 0, 1, 1, 1, 0, 0, 1, 1, 1, 1, 0, 1, 1, 0, 1,\n",
       "       1, 1, 1, 1, 1, 1, 1, 0, 0, 0, 1, 0, 0, 1, 1, 1, 0, 0, 1, 0, 1, 0,\n",
       "       0, 1, 0, 0, 1, 1, 0, 1, 1, 0, 1, 1, 1, 1, 0, 1, 1, 1, 1, 1, 1, 1,\n",
       "       1, 1, 0, 1, 1, 1, 1, 0, 0, 1, 0, 1, 1, 0, 0, 1, 1, 0, 0, 1, 1, 1,\n",
       "       1, 0, 1, 1, 0, 0, 0, 1, 0, 1, 0, 1, 1, 1, 0, 1, 1, 0, 0, 1, 0, 0,\n",
       "       0, 0, 1, 0, 0, 0, 1, 0, 1, 0, 1, 1, 0, 1, 0, 0, 0, 0, 1, 1, 0, 0,\n",
       "       1, 1, 1, 0, 1, 1, 1, 1, 1, 0, 0, 1, 1, 0, 1, 1, 0, 0, 1, 0, 1, 1,\n",
       "       1, 1, 0, 1, 1, 1, 1, 1, 0, 1, 0, 0, 0, 0, 0, 0, 0, 0, 0, 0, 0, 0,\n",
       "       0, 0, 1, 1, 1, 1, 1, 1, 0, 1, 0, 1, 1, 0, 1, 1, 0, 1, 0, 0, 1, 1,\n",
       "       1, 1, 1, 1, 1, 1, 1, 1, 1, 1, 1, 0, 1, 1, 0, 1, 0, 1, 1, 1, 1, 1,\n",
       "       1, 1, 1, 1, 1, 1, 1, 1, 1, 0, 1, 1, 1, 0, 1, 0, 1, 1, 1, 1, 0, 0,\n",
       "       0, 1, 1, 1, 1, 0, 1, 0, 1, 0, 1, 1, 1, 0, 1, 1, 1, 1, 1, 1, 1, 0,\n",
       "       0, 0, 1, 1, 1, 1, 1, 1, 1, 1, 1, 1, 1, 0, 0, 1, 0, 0, 0, 1, 0, 0,\n",
       "       1, 1, 1, 1, 1, 0, 1, 1, 1, 1, 1, 0, 1, 1, 1, 0, 1, 1, 0, 0, 1, 1,\n",
       "       1, 1, 1, 1, 0, 1, 1, 1, 1, 1, 1, 1, 0, 1, 1, 1, 1, 1, 0, 1, 1, 0,\n",
       "       1, 1, 1, 1, 1, 1, 1, 1, 1, 1, 1, 1, 0, 1, 0, 0, 1, 0, 1, 1, 1, 1,\n",
       "       1, 0, 1, 1, 0, 1, 0, 1, 1, 0, 1, 0, 1, 1, 1, 1, 1, 1, 1, 1, 0, 0,\n",
       "       1, 1, 1, 1, 1, 1, 0, 1, 1, 1, 1, 1, 1, 1, 1, 1, 1, 0, 1, 1, 1, 1,\n",
       "       1, 1, 1, 0, 1, 0, 1, 1, 0, 1, 1, 1, 1, 1, 0, 0, 1, 0, 1, 0, 1, 1,\n",
       "       1, 1, 1, 0, 1, 1, 0, 1, 0, 1, 0, 0, 1, 1, 1, 0, 1, 1, 1, 1, 1, 1,\n",
       "       1, 1, 1, 1, 1, 0, 1, 0, 0, 1, 1, 1, 1, 1, 1, 1, 1, 1, 1, 1, 1, 1,\n",
       "       1, 1, 1, 1, 1, 1, 1, 1, 1, 1, 1, 1, 0, 0, 0, 0, 0, 0, 1])"
      ]
     },
     "execution_count": 3,
     "metadata": {},
     "output_type": "execute_result"
    }
   ],
   "source": [
    "y"
   ]
  },
  {
   "cell_type": "markdown",
   "id": "cbfd1e67",
   "metadata": {
    "id": "cbfd1e67"
   },
   "source": [
    "¿Qué datos son?"
   ]
  },
  {
   "cell_type": "code",
   "execution_count": 4,
   "id": "060b6f69",
   "metadata": {
    "colab": {
     "base_uri": "https://localhost:8080/"
    },
    "executionInfo": {
     "elapsed": 48,
     "status": "ok",
     "timestamp": 1696033937072,
     "user": {
      "displayName": "José Pedro Rodríguez Ayllón.",
      "userId": "00563231509491653865"
     },
     "user_tz": 240
    },
    "id": "060b6f69",
    "outputId": "0d2b0199-080f-46d7-8808-b22d44a7e521",
    "scrolled": false
   },
   "outputs": [
    {
     "name": "stdout",
     "output_type": "stream",
     "text": [
      ".. _breast_cancer_dataset:\n",
      "\n",
      "Breast cancer wisconsin (diagnostic) dataset\n",
      "--------------------------------------------\n",
      "\n",
      "**Data Set Characteristics:**\n",
      "\n",
      "    :Number of Instances: 569\n",
      "\n",
      "    :Number of Attributes: 30 numeric, predictive attributes and the class\n",
      "\n",
      "    :Attribute Information:\n",
      "        - radius (mean of distances from center to points on the perimeter)\n",
      "        - texture (standard deviation of gray-scale values)\n",
      "        - perimeter\n",
      "        - area\n",
      "        - smoothness (local variation in radius lengths)\n",
      "        - compactness (perimeter^2 / area - 1.0)\n",
      "        - concavity (severity of concave portions of the contour)\n",
      "        - concave points (number of concave portions of the contour)\n",
      "        - symmetry\n",
      "        - fractal dimension (\"coastline approximation\" - 1)\n",
      "\n",
      "        The mean, standard error, and \"worst\" or largest (mean of the three\n",
      "        worst/largest values) of these features were computed for each image,\n",
      "        resulting in 30 features.  For instance, field 0 is Mean Radius, field\n",
      "        10 is Radius SE, field 20 is Worst Radius.\n",
      "\n",
      "        - class:\n",
      "                - WDBC-Malignant\n",
      "                - WDBC-Benign\n",
      "\n",
      "    :Summary Statistics:\n",
      "\n",
      "    ===================================== ====== ======\n",
      "                                           Min    Max\n",
      "    ===================================== ====== ======\n",
      "    radius (mean):                        6.981  28.11\n",
      "    texture (mean):                       9.71   39.28\n",
      "    perimeter (mean):                     43.79  188.5\n",
      "    area (mean):                          143.5  2501.0\n",
      "    smoothness (mean):                    0.053  0.163\n",
      "    compactness (mean):                   0.019  0.345\n",
      "    concavity (mean):                     0.0    0.427\n",
      "    concave points (mean):                0.0    0.201\n",
      "    symmetry (mean):                      0.106  0.304\n",
      "    fractal dimension (mean):             0.05   0.097\n",
      "    radius (standard error):              0.112  2.873\n",
      "    texture (standard error):             0.36   4.885\n",
      "    perimeter (standard error):           0.757  21.98\n",
      "    area (standard error):                6.802  542.2\n",
      "    smoothness (standard error):          0.002  0.031\n",
      "    compactness (standard error):         0.002  0.135\n",
      "    concavity (standard error):           0.0    0.396\n",
      "    concave points (standard error):      0.0    0.053\n",
      "    symmetry (standard error):            0.008  0.079\n",
      "    fractal dimension (standard error):   0.001  0.03\n",
      "    radius (worst):                       7.93   36.04\n",
      "    texture (worst):                      12.02  49.54\n",
      "    perimeter (worst):                    50.41  251.2\n",
      "    area (worst):                         185.2  4254.0\n",
      "    smoothness (worst):                   0.071  0.223\n",
      "    compactness (worst):                  0.027  1.058\n",
      "    concavity (worst):                    0.0    1.252\n",
      "    concave points (worst):               0.0    0.291\n",
      "    symmetry (worst):                     0.156  0.664\n",
      "    fractal dimension (worst):            0.055  0.208\n",
      "    ===================================== ====== ======\n",
      "\n",
      "    :Missing Attribute Values: None\n",
      "\n",
      "    :Class Distribution: 212 - Malignant, 357 - Benign\n",
      "\n",
      "    :Creator:  Dr. William H. Wolberg, W. Nick Street, Olvi L. Mangasarian\n",
      "\n",
      "    :Donor: Nick Street\n",
      "\n",
      "    :Date: November, 1995\n",
      "\n",
      "This is a copy of UCI ML Breast Cancer Wisconsin (Diagnostic) datasets.\n",
      "https://goo.gl/U2Uwz2\n",
      "\n",
      "Features are computed from a digitized image of a fine needle\n",
      "aspirate (FNA) of a breast mass.  They describe\n",
      "characteristics of the cell nuclei present in the image.\n",
      "\n",
      "Separating plane described above was obtained using\n",
      "Multisurface Method-Tree (MSM-T) [K. P. Bennett, \"Decision Tree\n",
      "Construction Via Linear Programming.\" Proceedings of the 4th\n",
      "Midwest Artificial Intelligence and Cognitive Science Society,\n",
      "pp. 97-101, 1992], a classification method which uses linear\n",
      "programming to construct a decision tree.  Relevant features\n",
      "were selected using an exhaustive search in the space of 1-4\n",
      "features and 1-3 separating planes.\n",
      "\n",
      "The actual linear program used to obtain the separating plane\n",
      "in the 3-dimensional space is that described in:\n",
      "[K. P. Bennett and O. L. Mangasarian: \"Robust Linear\n",
      "Programming Discrimination of Two Linearly Inseparable Sets\",\n",
      "Optimization Methods and Software 1, 1992, 23-34].\n",
      "\n",
      "This database is also available through the UW CS ftp server:\n",
      "\n",
      "ftp ftp.cs.wisc.edu\n",
      "cd math-prog/cpo-dataset/machine-learn/WDBC/\n",
      "\n",
      ".. topic:: References\n",
      "\n",
      "   - W.N. Street, W.H. Wolberg and O.L. Mangasarian. Nuclear feature extraction \n",
      "     for breast tumor diagnosis. IS&T/SPIE 1993 International Symposium on \n",
      "     Electronic Imaging: Science and Technology, volume 1905, pages 861-870,\n",
      "     San Jose, CA, 1993.\n",
      "   - O.L. Mangasarian, W.N. Street and W.H. Wolberg. Breast cancer diagnosis and \n",
      "     prognosis via linear programming. Operations Research, 43(4), pages 570-577, \n",
      "     July-August 1995.\n",
      "   - W.H. Wolberg, W.N. Street, and O.L. Mangasarian. Machine learning techniques\n",
      "     to diagnose breast cancer from fine-needle aspirates. Cancer Letters 77 (1994) \n",
      "     163-171.\n"
     ]
    }
   ],
   "source": [
    "## ejecute el comando\n",
    "print(bc.DESCR)"
   ]
  },
  {
   "cell_type": "code",
   "execution_count": 5,
   "id": "9b474e3d",
   "metadata": {
    "executionInfo": {
     "elapsed": 300,
     "status": "ok",
     "timestamp": 1696033944189,
     "user": {
      "displayName": "José Pedro Rodríguez Ayllón.",
      "userId": "00563231509491653865"
     },
     "user_tz": 240
    },
    "id": "9b474e3d"
   },
   "outputs": [],
   "source": [
    "### Preparación de datos\n",
    "n_samples, n_features = X.shape\n",
    "\n",
    "# scale\n",
    "sc = StandardScaler()\n",
    "X = sc.fit_transform(X)\n",
    "X=torch.tensor(X,dtype=torch.float32)\n",
    "y=torch.tensor(y,dtype=torch.float32)"
   ]
  },
  {
   "cell_type": "code",
   "execution_count": 6,
   "id": "A34CC95BgDtC",
   "metadata": {
    "colab": {
     "base_uri": "https://localhost:8080/"
    },
    "executionInfo": {
     "elapsed": 320,
     "status": "ok",
     "timestamp": 1696033950819,
     "user": {
      "displayName": "José Pedro Rodríguez Ayllón.",
      "userId": "00563231509491653865"
     },
     "user_tz": 240
    },
    "id": "A34CC95BgDtC",
    "outputId": "374b1283-5d4c-48ac-ddc4-8ee6a1890975"
   },
   "outputs": [
    {
     "data": {
      "text/plain": [
       "torch.Size([569, 30])"
      ]
     },
     "execution_count": 6,
     "metadata": {},
     "output_type": "execute_result"
    }
   ],
   "source": [
    "X.shape"
   ]
  },
  {
   "cell_type": "markdown",
   "id": "b652f0e2",
   "metadata": {
    "id": "b652f0e2"
   },
   "source": [
    "### ¿Qué hace StandardScaler?\n",
    "https://scikit-learn.org/stable/modules/generated/sklearn.preprocessing.StandardScaler.html\n",
    "\n"
   ]
  },
  {
   "cell_type": "code",
   "execution_count": null,
   "id": "5aee586f",
   "metadata": {
    "id": "5aee586f"
   },
   "outputs": [],
   "source": []
  },
  {
   "cell_type": "code",
   "execution_count": 7,
   "id": "7d4e218b",
   "metadata": {
    "id": "7d4e218b"
   },
   "outputs": [],
   "source": [
    "from torch.utils.data import Dataset\n",
    "\n",
    "\n",
    "class CreateDataset(Dataset):\n",
    "    def __init__(self, x, y):\n",
    "        self.x = x\n",
    "\n",
    "        self.y = y\n",
    "\n",
    "    def __getitem__(self, index):\n",
    "\n",
    "        sample = [self.x[index],self.y[index]]\n",
    "\n",
    "        return sample\n",
    "\n",
    "\n",
    "    def __len__(self):\n",
    "\n",
    "        return len(self.x)"
   ]
  },
  {
   "cell_type": "code",
   "execution_count": 8,
   "id": "7c1ee13e",
   "metadata": {
    "id": "7c1ee13e"
   },
   "outputs": [],
   "source": [
    "datos1=CreateDataset(X,y)\n",
    "### Dividimos los datos entre datos de entrenamiento y de prueba.\n",
    "train_size = int(0.8 * len(datos1))\n",
    "test_size = len(datos1) - train_size\n",
    "train_dataset, test_dataset = torch.utils.data.random_split(datos1, [train_size, test_size])"
   ]
  },
  {
   "cell_type": "markdown",
   "id": "3532bdb6",
   "metadata": {
    "id": "3532bdb6"
   },
   "source": [
    "### ¿Qué hace el DataLoader?"
   ]
  },
  {
   "cell_type": "code",
   "execution_count": 9,
   "id": "vzWDSUsYqAG3",
   "metadata": {
    "id": "vzWDSUsYqAG3"
   },
   "outputs": [],
   "source": [
    "####"
   ]
  },
  {
   "cell_type": "code",
   "execution_count": 10,
   "id": "ZtLCZxgtoH6g",
   "metadata": {
    "id": "ZtLCZxgtoH6g"
   },
   "outputs": [],
   "source": [
    "#### Respuesta."
   ]
  },
  {
   "cell_type": "code",
   "execution_count": 11,
   "id": "2e789966",
   "metadata": {
    "id": "2e789966"
   },
   "outputs": [],
   "source": [
    "from torch.utils.data import DataLoader\n",
    "batch_size=100\n",
    "cargarDatos = DataLoader(train_dataset, batch_size, shuffle=True)"
   ]
  },
  {
   "cell_type": "code",
   "execution_count": 12,
   "id": "aed702fa",
   "metadata": {
    "id": "aed702fa"
   },
   "outputs": [],
   "source": [
    "### Definimos el modelo de regresión logística\n",
    "\n",
    "class LogisticRegression(torch.nn.Module):\n",
    "\n",
    "    def __init__(self, input_dim, output_dim):\n",
    "\n",
    "        super(LogisticRegression, self).__init__()\n",
    "\n",
    "        self.linear = torch.nn.Linear(input_dim, output_dim)\n",
    "\n",
    "    def forward(self, x):\n",
    "        outputs = torch.sigmoid(self.linear(x))\n",
    "        return outputs"
   ]
  },
  {
   "cell_type": "code",
   "execution_count": 13,
   "id": "d2b07861",
   "metadata": {
    "id": "d2b07861"
   },
   "outputs": [
    {
     "name": "stdout",
     "output_type": "stream",
     "text": [
      "OrderedDict([('linear.weight', tensor([[ 0.0941, -0.0806, -0.0354,  0.0857, -0.1719,  0.1095, -0.0376,  0.0929,\n",
      "          0.0254, -0.0224,  0.0506,  0.0090,  0.0667, -0.0711, -0.0133, -0.0164,\n",
      "          0.0265, -0.0007,  0.1596,  0.0568, -0.0680, -0.1103, -0.0306, -0.0788,\n",
      "         -0.0585,  0.0087,  0.1088,  0.0992, -0.1785,  0.1132]])), ('linear.bias', tensor([0.0510]))])\n"
     ]
    }
   ],
   "source": [
    "### Creamos el modelo.\n",
    "\n",
    "torch.manual_seed(1)\n",
    "\n",
    "modelD=LogisticRegression(n_features,1)\n",
    "print(modelD.state_dict())"
   ]
  },
  {
   "cell_type": "code",
   "execution_count": 14,
   "id": "50244d0c",
   "metadata": {
    "id": "50244d0c"
   },
   "outputs": [],
   "source": [
    "\n",
    "### Definimos el método de optimización. El Stochastic Gradient Descent.\n",
    "learning_rate=0.001\n",
    "\n",
    "optimizer1 = torch.optim.SGD(modelD.parameters(), lr=learning_rate)\n",
    "\n",
    "### Definimos el criterio de pérdida o función costo.\n",
    "criterio = torch.nn.BCELoss() ## Binary cross entropy."
   ]
  },
  {
   "cell_type": "markdown",
   "id": "7f5090a7",
   "metadata": {
    "id": "7f5090a7"
   },
   "source": [
    "### ¿Cuántos batches o lotes hay?"
   ]
  },
  {
   "cell_type": "code",
   "execution_count": 15,
   "id": "66c86803",
   "metadata": {
    "id": "66c86803"
   },
   "outputs": [
    {
     "data": {
      "text/plain": [
       "4.55"
      ]
     },
     "execution_count": 15,
     "metadata": {},
     "output_type": "execute_result"
    }
   ],
   "source": [
    "num_examples=len(train_dataset)\n",
    "num_batches = num_examples / batch_size\n",
    "num_batches"
   ]
  },
  {
   "cell_type": "code",
   "execution_count": 16,
   "id": "1a5512b3",
   "metadata": {
    "id": "1a5512b3"
   },
   "outputs": [],
   "source": [
    "### Creamos una lista para almacenar las pérdidas.\n",
    "losses = []\n",
    "###"
   ]
  },
  {
   "cell_type": "code",
   "execution_count": 17,
   "id": "48279df0",
   "metadata": {
    "id": "48279df0"
   },
   "outputs": [],
   "source": [
    "#modelD(list(enumerate(cargarDatos))[0][1][0])"
   ]
  },
  {
   "cell_type": "code",
   "execution_count": 18,
   "id": "ae55e019",
   "metadata": {
    "id": "ae55e019"
   },
   "outputs": [],
   "source": [
    "### Malla for de optimzación. For loop.\n",
    "\n",
    "#### Complete el for loop.\n",
    "\n",
    "epochs = 100\n",
    "num_batches = num_examples / batch_size\n",
    "\n",
    "\n",
    "for e in range(epochs):\n",
    "    cumulative_loss = 0\n",
    "    # inner loop, malla interna\n",
    "    for i, (data, y) in enumerate(cargarDatos):\n",
    "\n",
    "\n",
    "        #### método forward.\n",
    "\n",
    "        yhat = modelD(data)\n",
    "\n",
    "        ### pérdida o costo.\n",
    "\n",
    "        loss = criterio(yhat, y.view(-1,1))\n",
    "\n",
    "        ### cálculo de la derivada.\n",
    "        loss.backward()\n",
    "\n",
    "        ### x_k+1 = x_k - lr* grad(loss), método de optimización.\n",
    "        optimizer1.step()\n",
    "\n",
    "        ### reset o puesta a cero del gradiente del optimizador.\n",
    "        optimizer1.zero_grad()\n",
    "\n",
    "\n",
    "        cumulative_loss = cumulative_loss+loss.item()\n",
    "\n",
    "\n",
    "    losses.append(cumulative_loss /num_batches)\n"
   ]
  },
  {
   "cell_type": "code",
   "execution_count": 19,
   "id": "52ac74f1",
   "metadata": {
    "id": "52ac74f1"
   },
   "outputs": [
    {
     "data": {
      "text/plain": [
       "Text(0, 0.5, 'pérdida o costo')"
      ]
     },
     "execution_count": 19,
     "metadata": {},
     "output_type": "execute_result"
    },
    {
     "data": {
      "image/png": "[encoded data removed]",
      "text/plain": [
       "<Figure size 640x480 with 1 Axes>"
      ]
     },
     "metadata": {},
     "output_type": "display_data"
    }
   ],
   "source": [
    "### Graficamos la pérdida\n",
    "plt.plot(losses)\n",
    "plt.xlabel('número de epochs')\n",
    "plt.ylabel('pérdida o costo')"
   ]
  },
  {
   "cell_type": "markdown",
   "id": "015ec6ed",
   "metadata": {
    "id": "015ec6ed"
   },
   "source": [
    "### Realice el for loop para 50, 100, 150, 200, 300, 400 epochs\n",
    "### ¿Qué pasa con la pérdida?"
   ]
  },
  {
   "cell_type": "code",
   "execution_count": null,
   "id": "1772d48b",
   "metadata": {
    "id": "1772d48b"
   },
   "outputs": [],
   "source": []
  },
  {
   "cell_type": "markdown",
   "id": "b46d9395",
   "metadata": {
    "id": "b46d9395"
   },
   "source": [
    "### Curva ROC"
   ]
  },
  {
   "cell_type": "code",
   "execution_count": 20,
   "id": "39d36bce",
   "metadata": {
    "id": "39d36bce"
   },
   "outputs": [],
   "source": [
    "### Utilizamos los datos de prueba test_data."
   ]
  },
  {
   "cell_type": "code",
   "execution_count": 21,
   "id": "c4f1fde6",
   "metadata": {
    "id": "c4f1fde6"
   },
   "outputs": [],
   "source": [
    "datosPrueba=DataLoader(test_dataset, batch_size=len(test_dataset), shuffle=True)\n",
    "yhat=modelD(list(datosPrueba)[0][0]).detach().view(1,-1)[0].numpy()  ## valores de predicción.\n",
    "\n",
    "y=list(datosPrueba)[0][1].numpy()  # true labels, valores reales."
   ]
  },
  {
   "cell_type": "code",
   "execution_count": 22,
   "id": "96c397df",
   "metadata": {
    "id": "96c397df"
   },
   "outputs": [],
   "source": [
    "### Separamos los datos de predicción correspondientes a los datos de\n",
    "predic1=yhat[y>0.5]  ### valores de predicción con true label 1.\n",
    "predic2=yhat[y<0.5]  ### valores de predicción con true label 0."
   ]
  },
  {
   "cell_type": "code",
   "execution_count": 23,
   "id": "74d0d1a3",
   "metadata": {
    "id": "74d0d1a3"
   },
   "outputs": [],
   "source": [
    "#Cálculo de valores para la curva ROC\n",
    "\n",
    "threshold=np.arange(0,1.1,0.01)\n",
    "sensitividadlist=[]\n",
    "especificidad1list=[]\n",
    "threshold\n",
    "\n",
    "for i in range(len(threshold)):\n",
    "\n",
    "\n",
    "    TP=len(predic1[ predic1 > threshold[i]  ])  ### Verdadero positivo\n",
    "    FN= len(predic1)-TP ### Falso negativo\n",
    "\n",
    "\n",
    "    sensitividad=TP/(TP+FN)\n",
    "    sensitividadlist.append(sensitividad)\n",
    "\n",
    "    FP=len(predic2[predic2>threshold[i] ])  ### Verdadero negativo\n",
    "    TN=len(predic2)-FP   #### Falso positivo\n",
    "\n",
    "    especificidad1=FP/(FP+TN)\n",
    "\n",
    "    especificidad1list.append(especificidad1)\n",
    "\n",
    "\n",
    "    especificidad1\n",
    "    #print(threshold[i])\n",
    "    #print(alpha,Power)"
   ]
  },
  {
   "cell_type": "code",
   "execution_count": 24,
   "id": "abd00e45",
   "metadata": {
    "id": "abd00e45"
   },
   "outputs": [
    {
     "data": {
      "text/plain": [
       "Text(0, 0.5, 'Verdadero Positivo')"
      ]
     },
     "execution_count": 24,
     "metadata": {},
     "output_type": "execute_result"
    },
    {
     "data": {
      "image/png": "[encoded data removed]",
      "text/plain": [
       "<Figure size 640x480 with 1 Axes>"
      ]
     },
     "metadata": {},
     "output_type": "display_data"
    }
   ],
   "source": [
    "plt.plot(especificidad1list,sensitividadlist)\n",
    "plt.plot(np.arange(0,1,0.01),np.arange(0,1,0.01))\n",
    "plt.xlabel('Falso Positivo')\n",
    "plt.ylabel('Verdadero Positivo')"
   ]
  },
  {
   "cell_type": "markdown",
   "id": "184a2ce3",
   "metadata": {
    "id": "184a2ce3"
   },
   "source": [
    "### Cálculo del Acuracy o Exactitud\n",
    "\n",
    "#  $accuracy=\\frac{Nro\\,predicciones\\, correctas}{Nro\\,total\\, predicciones}$\n",
    "\n",
    "## Calcule el accuracy con los datos de prueba (test_dataset) para cada uno de los números de epoch antes mencionados.\n",
    "\n",
    "### ¿Qué modelo seleccionarí?"
   ]
  },
  {
   "cell_type": "code",
   "execution_count": null,
   "id": "6d8a9fb5",
   "metadata": {
    "id": "6d8a9fb5"
   },
   "outputs": [],
   "source": []
  },
  {
   "cell_type": "code",
   "execution_count": null,
   "id": "a1f49269",
   "metadata": {
    "id": "a1f49269"
   },
   "outputs": [],
   "source": []
  }
 ],
 "metadata": {
  "colab": {
   "provenance": []
  },
  "kernelspec": {
   "display_name": "Python 3 (ipykernel)",
   "language": "python",
   "name": "python3"
  },
  "language_info": {
   "codemirror_mode": {
    "name": "ipython",
    "version": 3
   },
   "file_extension": ".py",
   "mimetype": "text/x-python",
   "name": "python",
   "nbconvert_exporter": "python",
   "pygments_lexer": "ipython3",
   "version": "3.9.7"
  }
 },
 "nbformat": 4,
 "nbformat_minor": 5
}
